{
 "cells": [
  {
   "cell_type": "code",
   "execution_count": 9,
   "metadata": {},
   "outputs": [],
   "source": [
    "# Setup\n",
    "import os\n",
    "import math\n",
    "import matplotlib.pyplot as plt\n",
    "import numpy as np\n",
    "import sympy as sym\n",
    "from scipy import optimize\n",
    "# Display Images and HTML\n",
    "from IPython.display import Image\n",
    "from IPython.core.display import HTML\n",
    "# Comment the lines below if you don't use Jupyter Themes \n",
    "# (or edit if you prefer another appearance)\n",
    "from jupyterthemes import jtplot\n",
    "jtplot.style(theme='onedork')"
   ]
  },
  {
   "cell_type": "code",
   "execution_count": 10,
   "metadata": {},
   "outputs": [],
   "source": [
    "PATH = os.getcwd()"
   ]
  },
  {
   "cell_type": "markdown",
   "metadata": {},
   "source": [
    "<h1>\n",
    "    <div align=\"center\"> \n",
    "        <b>AMS 511 Notebook Project: Mathematica to Python</b>\n",
    "    </div>\n",
    "</h1>\n",
    "    \n",
    "<h2>\n",
    "    <div align=\"center\"> \n",
    "        <b>Introduction to Financial Markets, the Time Value of Money, and Fixed Income Securities</b>\n",
    "    </div>\n",
    "</h2>\n",
    "\n",
    "<h3>\n",
    "    <div align = \"center\"> \n",
    "        <b>Author: Gomes, Marlon</b>\n",
    "    </div>\n",
    "</h3>\n",
    "\n",
    "<h2>\n",
    "    <b>Disclaimer</b>\n",
    "</h2>\n",
    "\n",
    "<p>The present notebook contains mainly excerpts from the original (Mathematica) notebook by Prof. Robert J. Frey for a course taught in the Fall of 2020. In particular, most textual content is directly quoted and/or copy-pasted while the coding components have been adapted from Mathematica to Python. The author took the liberty to reorganize some of the content to clarify the exposition. In the same interest, additional author's comments and new examples were included. The authors' viewpoints are tagged to distinguish them from Professor Frey's.</p>\n",
    "\n",
    "<h2>Financial Markets</h2>\n",
    "\n",
    "<p>In economics, a financial market is a mechanism that brings people together to buy and sell (trade) financial securities (such as sotcks and bonds(, commodities (such as precious metals or agricultural good), currencies, and other fungible items of value.</p>\n",
    "\n",
    "<p>By bringing buyers and sellers together in one place they can trade more efficiently, reducing costs, and share information, resulting in fairer pricing.</p>\n",
    "\n",
    "<p>For more information read: http://en.wikipedia.org/wiki/Financial_market</p>\n",
    "\n",
    "<h3>Markets</h3>\n",
    "\n",
    "<p>Markets are \"places\" where people come together to trade goods; having a common currency facilitates this exchange.</p>\n",
    "\n",
    "<h3>Financial securities</h3>\n",
    "\n",
    "<p>Financial securities are tradeable assets dealind with the exchange of money and ownership, e.g.,\n",
    "    <ul>\n",
    "        <li>currencies: monies of various countries held in trust</li>\n",
    "        <li>equities: ownership shares of business entities</li>\n",
    "        <li>debts: contracts for either the right or obligation to either buy or sell another security.</li>\n",
    "    </ul>\n",
    "</p>\n",
    "\n",
    "<h2>Quantitative Finance</h2>\n",
    "\n",
    "<p><b>Quantitative Finance is an applied discipline dealing with the application of mathematical techniques to decision problems in finance. We can divide these problems into two main branches: (1) the pricing of individual financial securities or opportunities and (2) the management of portfolios of such securities and opportunities. Ultimately, such analyses rest on the estimation of cash-flows across time and of the uncertainties associated with those cash-flows.</b></p>\n",
    "\n",
    "<h3>Investment Analysis | Financial Modeling</h3>\n",
    " \n",
    "<p><a href=\"https://en.wikipedia.org/wiki/Valuation_(finance)\" target=\"_blank\">Investment analysis</a> or financial modeling is the process of both describing and valuing a financial security or opportunity:\n",
    "    <ul>\n",
    "        <li>Through comparison with other financial securities or opportunities available to an economic agent, under the presumption that like benefits, costs, and risks will result in like prices, or;</li>\n",
    "        <li>By economic analysis based on market dynamics and equilibrium conditions which are posited or observed to exist in financial markets or the larget economy.</li>\n",
    "    </ul>\n",
    "These two approaches are not mutually exclusive, however, and financial modeling usually involves elements of both. </p>\n",
    "\n",
    "<h3>Investment Management | Portfolio Management</h3>\n",
    "\n",
    "<p><a href=\"https://en.wikipedia.org/wiki/Investment_management\" target=\"_blank\">Investment management</a> or portfolio management is the creation and continued management of a portfolio of various investments to meet the economic goals of investors. It typically involves the trade-off of two aspects of investment performance at specified time horizons.\n",
    "    <ul>\n",
    "        <li><i>Reward</i> is represented by various measures which describe the economic benefits realized by the portfolio over time. The simplest example is the expected return of the portfolio.</li>\n",
    "        <li><i>Risk</i> is represented by various measures which describe the uncertainties associated with economic returns realized by the portfolio. The simplest example is the volatility (or variance) of the return of the portfolio.</li>\n",
    "    </ul>\n",
    "</p>\n",
    "<h3>The Comparison Principle</h3>\n",
    "\n",
    "<p>Some investments can be evaluated by comparint them with other available investments. Financial markets, in particular, have features that allow us to quantify and compare different alternatives in purely economic terms.</p>\n",
    "\n",
    "<h3>Arbitrage</h3>\n",
    "\n",
    "<p>An <a href=\"https://en.wikipedia.org/wiki/Arbitrage\" target=\"_blank\">arbitrage</a>, put simply, is a risk-free profit. when one talks about a market being \"fair\", that usually means arbitrage is impossible.</p>\n",
    "\n",
    "<h4>Mispricing example</h4>\n",
    "\n",
    "<p>Consider an agent who buys an asset for a given price in one market and then simultaneously sells the identical asset for a higher price in another. Sometimes this makes sense, e.g., one market might be near the asset's producers and the other near its consumers. However, if the two markets are equivalent, then the agent can make a theoretically infinite riskless profit by continuously buying in the \"cheap\" market and selling in the expensive one.</p>\n",
    "\n",
    "<h4> Coommodity Pricing Example</h4>\n",
    "\n",
    "<p>Consider the pricing of bushels of winter wheat which are sold on an organized commodities market (example: https://www.cmegroup.com/trading/agricultural/grain-and-oilseed/wheat_contract_specifications.html). Each bushel of wheat is much like any other (i.e., they are fungible) and the balance of supply and demand will reveal a price. Regardless of whether a person thinks the price of wheat will rise or fall in the future, there is no basis for one person to buy or sell wheat at a different price than any other person.</p>\n",
    "\n",
    "<h4> Risk-free rate</h4>\n",
    "\n",
    "<p>There is a risk-free rate that represents a floor at which one can borrow or lend money. There can be only one risk-free rate; otherwise, a person could borrow at the lower rate and invest at the higher, making an infinite riskless return.</p>\n",
    "\n",
    "<p>This doesn't mean that earning more than the risk-free rate is impossible, only that it cannot be guaranteed. The arbitrage-free assumption means that there is no certain reward in excess of this without some risk.</p>\n",
    "\n",
    "<h3> Uncertainty and Risk Aversion in Markets</h3>\n",
    "\n",
    "<p>There are many sources of uncertainty in markets. Consider a share of stock in a company; the price is affected by factors internal to the company (e.g., its earnings) and outside the company (e.g., inflation).</p>\n",
    "\n",
    "<p>All else being equal, a rational investor prefers a less risky alternative to a more risky one.</p>\n",
    "\n",
    "<h2>Theory of Interest</h2>\n",
    "\n",
    "<p><b> Cash that one has today is worth more than the same amount of cash in the future. This is the <i>time value of money</i>. If one borrows $F$ today one must pay $(F+rF)$, $r>0$, in the future so that the value of the amount borrowed equals the value of the amount paid. This factor $r$ is called the interest rate. </b></p>\n",
    "\n",
    "<h3>Cash flow diagrams</h3>\n",
    "\n",
    "<p>Cash flow diagrams are a simple, but extremely useful, tool for visualizing the cash flows associated with many investment problems.</p>\n",
    "\n",
    "<h4>Single Payment Example</h4>\n",
    "\n",
    "<p>The cash flow diagram for a situation in which someone borrows $\\$100.00$ today and pays off the loan with a single payment of $\\$105.00$ after one year is</p>\n",
    "\n",
    "<img src = \"Images/img1.png\" width = 300 height = 200>\n",
    "\n",
    "<p>The additional $\\$5.00$ is, of course, the interest paid on the load and represents an interest rate of $5\\%$.</p>\n",
    "\n",
    "<h4> Multiple Payments Example</h4>\n",
    "\n",
    "Another example would be a case in which the borrower borrows $\\$100$ and pays back the load with two payments, one at six months and the other at a year, of $\\$51.88$ each. the cash flow diagram is that case would be \n",
    "\n",
    "<img src = \"Images/img2.png\" width = 300, height = 200>\n",
    "\n",
    "The additional $\\$1.88 + \\$1.88 = \\$ 3.76$ represents the interest on the loan. Computing the interest rate here is slightly more complicated and will be covered shortly.\n",
    "\n",
    "### Loan: A Contract to Borrow Money Now and Repay it in the Future\n",
    "\n",
    "A loan is a contract: the loaner gives the borrower a certain amount of money; the borrower agrees to repay this amount plus interest by making payments at specified points in time until the principal (the amount borrowed) plus interest is paid off.\n",
    "\n",
    "#### A Simple Loan Example I - Multiple Payments\n",
    "\n",
    "Frank loans $\\$100$ at $10\\%$ annual interest for 4 years to Andrea. \n",
    "\n",
    "* The principal, $\\$100$, is the amount borrowed.\n",
    "* The interest rate, $10\\%$, represents the time value of money.\n",
    "* The term, $4$ years, is the lifetime of the loan. \n",
    "* There will be additional conditions describing the details of the interest computations at the timing of payments from borrower to loaner.\n",
    "\n",
    "In this case, the loan agreement stipulates that each year Andrea will pay the $10\\%$ interest on the $\\$100$ principal and at the end of the fourth year return the principal amount as well. The loadn's cash flow diagram from Andrea's, the borrower, perspective is:\n",
    "<img src='Images/img3.png' width = 300, height = 200>\n",
    "\n",
    "#### A Simple Loan Example II - Single Payment\n",
    "\n",
    "Consider the same loan above, except that Frank loans Andrea the $\\$100$ at $10\\%$ interest and receives a single lump-sum payment at the end of $4$ years. Computing the interest due, and hence the payment, depends on certain conventions. \n",
    "\n",
    "* <b> Simple interest:</b> In simple interest the interest is compounded solely on the principal amount of the loan. In the load example here the final payment would be computed by"
   ]
  },
  {
   "cell_type": "code",
   "execution_count": 11,
   "metadata": {},
   "outputs": [
    {
     "data": {
      "text/plain": [
       "140.0"
      ]
     },
     "execution_count": 11,
     "metadata": {},
     "output_type": "execute_result"
    }
   ],
   "source": [
    "100*(1+4*0.1)"
   ]
  },
  {
   "cell_type": "markdown",
   "metadata": {},
   "source": [
    "The cash flow diagram for this loan would be\n",
    "\n",
    "<img src='Images/img4.png' width =300 height = 200>\n",
    "\n",
    "Thus, after 4 years Andrea pays Frank $\\$140$, the return of the $\\$100$ originally borrowed plus $\\$40$ interest.\n",
    "\n",
    "* <b>Compound interest:</b> In compound interest, when interest accrues it is added to the balance owed. Future accruals of interest are applied to this new balance. If payments are made prior to the ending of the loan, then these are deducted from the balance. In our example, if interest is compounded semi-annually then every 6 months $5\\%$ interest (i.e., half of the annual rate) would be charged and accumulated in the balance owed. Over 4 years, there are 8 such compounding events:\n",
    "$$ 100\\left(1+\\frac{0.1}{2}\\right)^{4\\cdot 2} = 100(1.05)^8$$"
   ]
  },
  {
   "cell_type": "code",
   "execution_count": 12,
   "metadata": {},
   "outputs": [
    {
     "data": {
      "text/plain": [
       "147.75"
      ]
     },
     "execution_count": 12,
     "metadata": {},
     "output_type": "execute_result"
    }
   ],
   "source": [
    "round(100*(1.05)**8,2)"
   ]
  },
  {
   "cell_type": "markdown",
   "metadata": {},
   "source": [
    "The cash flow diagram for this loan would be\n",
    "\n",
    "<img src='Images/img5.png' width = 300 height = 200>\n",
    "\n",
    "Consider now the case of monthly compounding,"
   ]
  },
  {
   "cell_type": "code",
   "execution_count": 13,
   "metadata": {},
   "outputs": [
    {
     "data": {
      "text/plain": [
       "148.94"
      ]
     },
     "execution_count": 13,
     "metadata": {},
     "output_type": "execute_result"
    }
   ],
   "source": [
    "round(100*(1+0.1/12)**(4*12),2)"
   ]
  },
  {
   "cell_type": "markdown",
   "metadata": {},
   "source": [
    "Or annually,"
   ]
  },
  {
   "cell_type": "code",
   "execution_count": 14,
   "metadata": {},
   "outputs": [
    {
     "data": {
      "text/plain": [
       "146.41"
      ]
     },
     "execution_count": 14,
     "metadata": {},
     "output_type": "execute_result"
    }
   ],
   "source": [
    "round(100*(1+0.1)**4,2)"
   ]
  },
  {
   "cell_type": "markdown",
   "metadata": {},
   "source": [
    "In general, if we are charged interest on a present value of $PV$ dollars at an interest of $r$ compounded at $k$ times per year for $n$ years, then we receive a future falue $FV$:\n",
    "$$FV = PV\\left(1+\\frac{r}{k}\\right)^{nk}$$"
   ]
  },
  {
   "cell_type": "code",
   "execution_count": 15,
   "metadata": {},
   "outputs": [],
   "source": [
    "def FV(p, r, k, n):\n",
    "    \"\"\"Given a value of pricipal p, nominal annual rate r, \n",
    "    compounding frequency k (accruals per year), and a term n \n",
    "    (in years), computes the future value of the loan.\"\"\"\n",
    "    return p*(1+r/k)**(n*k)"
   ]
  },
  {
   "cell_type": "markdown",
   "metadata": {},
   "source": [
    "Returning to the example of semi-annual compounding, we have:"
   ]
  },
  {
   "cell_type": "code",
   "execution_count": 16,
   "metadata": {},
   "outputs": [
    {
     "data": {
      "text/plain": [
       "147.7455443789063"
      ]
     },
     "execution_count": 16,
     "metadata": {},
     "output_type": "execute_result"
    }
   ],
   "source": [
    "FV(100,0.1,2,4)"
   ]
  },
  {
   "cell_type": "markdown",
   "metadata": {},
   "source": [
    "### Accruing Continuously Compounded Interest\n",
    "\n",
    "As the compounding frequency increases, interest accrues more rapidly, but ir does approach a limit. Consider the return of a loan of $\\$1$ at a $10\\%$ rate compounded for a year, at various frequencies."
   ]
  },
  {
   "cell_type": "code",
   "execution_count": 17,
   "metadata": {},
   "outputs": [
    {
     "data": {
      "image/png": "[encoded data removed]",
      "text/plain": [
       "<Figure size 432x288 with 1 Axes>"
      ]
     },
     "metadata": {},
     "output_type": "display_data"
    }
   ],
   "source": [
    "# Data for plotting\n",
    "t = np.arange(0.1, 50.0, 0.01)\n",
    "s = np.array([FV(1, 0.1, freq, 1) for freq in t])\n",
    "asymp = np.full((len(s)),np.exp(0.1))\n",
    "\n",
    "fig, ax = plt.subplots(figsize = (6,4))\n",
    "ax.plot(t, s)\n",
    "ax.plot(t,asymp, '--')\n",
    "\n",
    "ax.set(xlabel='Frequency', ylabel='Final value ($)',\n",
    "       title='Effect of compounding frequency')\n",
    "ax.grid()\n",
    "\n",
    "plt.show()"
   ]
  },
  {
   "cell_type": "markdown",
   "metadata": {},
   "source": [
    "In the limit when the frequency k goes to infinity, we approach the asymptote given by\n",
    "$$ FV = \\lim_{k \\to \\infty} PV\\left(1+\\frac{r}{k}\\right)^{nk} = PVe^{nr}$$"
   ]
  },
  {
   "cell_type": "code",
   "execution_count": 18,
   "metadata": {},
   "outputs": [],
   "source": [
    "def FV_cont(p,r,n):\n",
    "    \"\"\"Given a value of pricipal p, nominal annual rate r,\n",
    "    and a term n (in years), for a continuously compounded loan,\n",
    "    computes the future value.\"\"\"\n",
    "    return p*math.exp(n*r)"
   ]
  },
  {
   "cell_type": "markdown",
   "metadata": {},
   "source": [
    "The same loan as before, compounded continuously, would yield"
   ]
  },
  {
   "cell_type": "code",
   "execution_count": 19,
   "metadata": {
    "scrolled": true
   },
   "outputs": [
    {
     "data": {
      "text/plain": [
       "149.18246976412703"
      ]
     },
     "execution_count": 19,
     "metadata": {},
     "output_type": "execute_result"
    }
   ],
   "source": [
    "FV_cont(100,0.10,4)"
   ]
  },
  {
   "cell_type": "markdown",
   "metadata": {},
   "source": [
    "### Effective Annual Interest Rates\n",
    "\n",
    "The <i>effective annual interest rate</i>, $r_{eff}$, of a nominal rate $r$ compounded with frequency $k$ is the rate that when compounded annually results int he same interest accrual:\n",
    "\n",
    "* $1+r_{eff} = \\left(1+\\frac{r}{k}\\right)^{k} \\Longrightarrow r_{eff} = \\left(1+\\frac{r}{k}\\right)^{k} - 1,$ in the discrete case;\n",
    "* $1+r_{eff} = e^r \\Longrightarrow r_{eff} = e^r-1$, in the continuous case."
   ]
  },
  {
   "cell_type": "markdown",
   "metadata": {},
   "source": [
    "#### Example\n",
    "\n",
    "Consider a 2-year instrument with nominal rate $r=0.05$ and $k=12$. Its effective annual interest rate is $5.1\\%$:"
   ]
  },
  {
   "cell_type": "code",
   "execution_count": 20,
   "metadata": {},
   "outputs": [
    {
     "data": {
      "text/plain": [
       "0.051161897881732976"
      ]
     },
     "execution_count": 20,
     "metadata": {},
     "output_type": "execute_result"
    }
   ],
   "source": [
    "(1+0.05/12)**12-1"
   ]
  },
  {
   "cell_type": "markdown",
   "metadata": {},
   "source": [
    "For $k=4$ the effective annual interest rate is slightly lower:"
   ]
  },
  {
   "cell_type": "code",
   "execution_count": 21,
   "metadata": {
    "scrolled": true
   },
   "outputs": [
    {
     "data": {
      "text/plain": [
       "0.05094533691406222"
      ]
     },
     "execution_count": 21,
     "metadata": {},
     "output_type": "execute_result"
    }
   ],
   "source": [
    "(1+0.05/4)**4-1"
   ]
  },
  {
   "cell_type": "markdown",
   "metadata": {},
   "source": [
    "Finally, in the case of continuous interest:"
   ]
  },
  {
   "cell_type": "code",
   "execution_count": 22,
   "metadata": {},
   "outputs": [
    {
     "data": {
      "text/plain": [
       "0.10517091807564771"
      ]
     },
     "execution_count": 22,
     "metadata": {},
     "output_type": "execute_result"
    }
   ],
   "source": [
    "math.exp(0.1)-1"
   ]
  },
  {
   "cell_type": "markdown",
   "metadata": {},
   "source": [
    "Be careful not to confuse the term of the debt with the compounding frequency. The fact that we were dealing with a 2-year instrument is irrelevant here. "
   ]
  },
  {
   "cell_type": "markdown",
   "metadata": {},
   "source": [
    "## Calendar conventions"
   ]
  },
  {
   "cell_type": "markdown",
   "metadata": {},
   "source": [
    "In computing the length of time between two dates various calendar conventions are observed, often to simplify computation. \n",
    "\n",
    "These are artifacts of the time before computers when these calculations were performed manually, but they remain standard in individual financial markets. For more information, read: https://en.wikipedia.org/wiki/Day_count_convention"
   ]
  },
  {
   "cell_type": "code",
   "execution_count": 23,
   "metadata": {},
   "outputs": [],
   "source": [
    "import datetime as dt\n",
    "from datetime import datetime"
   ]
  },
  {
   "cell_type": "markdown",
   "metadata": {},
   "source": [
    "We'll examine two conventions in common use: Actual/Actual and 30/360. Notice that terminology varies from market to market and even from instrument to instrument within a market. Sometimes similar but slightly different converntions have the same name, thus, context is important. \n",
    "\n",
    "A large part of the sotfware base for financial computations is dedicated to calendar computations covering computing the number of days between dates, the number of business (i.e., trading) days between dates, identification of holidays (which vary from country to country and market to market within a country), calculating the standard expiration dates for various contracts, and many others related to time. The module <i> datetime </i> and the package <i> Numpy <i> provide much of the functionality we need."
   ]
  },
  {
   "cell_type": "code",
   "execution_count": 24,
   "metadata": {},
   "outputs": [
    {
     "name": "stdout",
     "output_type": "stream",
     "text": [
      "Help on class timedelta in module datetime:\n",
      "\n",
      "class timedelta(builtins.object)\n",
      " |  Difference between two datetime values.\n",
      " |  \n",
      " |  timedelta(days=0, seconds=0, microseconds=0, milliseconds=0, minutes=0, hours=0, weeks=0)\n",
      " |  \n",
      " |  All arguments are optional and default to 0.\n",
      " |  Arguments may be integers or floats, and may be positive or negative.\n",
      " |  \n",
      " |  Methods defined here:\n",
      " |  \n",
      " |  __abs__(self, /)\n",
      " |      abs(self)\n",
      " |  \n",
      " |  __add__(self, value, /)\n",
      " |      Return self+value.\n",
      " |  \n",
      " |  __bool__(self, /)\n",
      " |      self != 0\n",
      " |  \n",
      " |  __divmod__(self, value, /)\n",
      " |      Return divmod(self, value).\n",
      " |  \n",
      " |  __eq__(self, value, /)\n",
      " |      Return self==value.\n",
      " |  \n",
      " |  __floordiv__(self, value, /)\n",
      " |      Return self//value.\n",
      " |  \n",
      " |  __ge__(self, value, /)\n",
      " |      Return self>=value.\n",
      " |  \n",
      " |  __getattribute__(self, name, /)\n",
      " |      Return getattr(self, name).\n",
      " |  \n",
      " |  __gt__(self, value, /)\n",
      " |      Return self>value.\n",
      " |  \n",
      " |  __hash__(self, /)\n",
      " |      Return hash(self).\n",
      " |  \n",
      " |  __le__(self, value, /)\n",
      " |      Return self<=value.\n",
      " |  \n",
      " |  __lt__(self, value, /)\n",
      " |      Return self<value.\n",
      " |  \n",
      " |  __mod__(self, value, /)\n",
      " |      Return self%value.\n",
      " |  \n",
      " |  __mul__(self, value, /)\n",
      " |      Return self*value.\n",
      " |  \n",
      " |  __ne__(self, value, /)\n",
      " |      Return self!=value.\n",
      " |  \n",
      " |  __neg__(self, /)\n",
      " |      -self\n",
      " |  \n",
      " |  __pos__(self, /)\n",
      " |      +self\n",
      " |  \n",
      " |  __radd__(self, value, /)\n",
      " |      Return value+self.\n",
      " |  \n",
      " |  __rdivmod__(self, value, /)\n",
      " |      Return divmod(value, self).\n",
      " |  \n",
      " |  __reduce__(...)\n",
      " |      __reduce__() -> (cls, state)\n",
      " |  \n",
      " |  __repr__(self, /)\n",
      " |      Return repr(self).\n",
      " |  \n",
      " |  __rfloordiv__(self, value, /)\n",
      " |      Return value//self.\n",
      " |  \n",
      " |  __rmod__(self, value, /)\n",
      " |      Return value%self.\n",
      " |  \n",
      " |  __rmul__(self, value, /)\n",
      " |      Return value*self.\n",
      " |  \n",
      " |  __rsub__(self, value, /)\n",
      " |      Return value-self.\n",
      " |  \n",
      " |  __rtruediv__(self, value, /)\n",
      " |      Return value/self.\n",
      " |  \n",
      " |  __str__(self, /)\n",
      " |      Return str(self).\n",
      " |  \n",
      " |  __sub__(self, value, /)\n",
      " |      Return self-value.\n",
      " |  \n",
      " |  __truediv__(self, value, /)\n",
      " |      Return self/value.\n",
      " |  \n",
      " |  total_seconds(...)\n",
      " |      Total seconds in the duration.\n",
      " |  \n",
      " |  ----------------------------------------------------------------------\n",
      " |  Static methods defined here:\n",
      " |  \n",
      " |  __new__(*args, **kwargs) from builtins.type\n",
      " |      Create and return a new object.  See help(type) for accurate signature.\n",
      " |  \n",
      " |  ----------------------------------------------------------------------\n",
      " |  Data descriptors defined here:\n",
      " |  \n",
      " |  days\n",
      " |      Number of days.\n",
      " |  \n",
      " |  microseconds\n",
      " |      Number of microseconds (>= 0 and less than 1 second).\n",
      " |  \n",
      " |  seconds\n",
      " |      Number of seconds (>= 0 and less than 1 day).\n",
      " |  \n",
      " |  ----------------------------------------------------------------------\n",
      " |  Data and other attributes defined here:\n",
      " |  \n",
      " |  max = datetime.timedelta(days=999999999, seconds=86399, microseconds=9...\n",
      " |  \n",
      " |  min = datetime.timedelta(days=-999999999)\n",
      " |  \n",
      " |  resolution = datetime.timedelta(microseconds=1)\n",
      "\n"
     ]
    }
   ],
   "source": [
    "help(dt.timedelta)"
   ]
  },
  {
   "cell_type": "code",
   "execution_count": 25,
   "metadata": {},
   "outputs": [
    {
     "name": "stdout",
     "output_type": "stream",
     "text": [
      "Help on function busday_count in module numpy:\n",
      "\n",
      "busday_count(...)\n",
      "    busday_count(begindates, enddates, weekmask='1111100', holidays=[], busdaycal=None, out=None)\n",
      "    \n",
      "    Counts the number of valid days between `begindates` and\n",
      "    `enddates`, not including the day of `enddates`.\n",
      "    \n",
      "    If ``enddates`` specifies a date value that is earlier than the\n",
      "    corresponding ``begindates`` date value, the count will be negative.\n",
      "    \n",
      "    .. versionadded:: 1.7.0\n",
      "    \n",
      "    Parameters\n",
      "    ----------\n",
      "    begindates : array_like of datetime64[D]\n",
      "        The array of the first dates for counting.\n",
      "    enddates : array_like of datetime64[D]\n",
      "        The array of the end dates for counting, which are excluded\n",
      "        from the count themselves.\n",
      "    weekmask : str or array_like of bool, optional\n",
      "        A seven-element array indicating which of Monday through Sunday are\n",
      "        valid days. May be specified as a length-seven list or array, like\n",
      "        [1,1,1,1,1,0,0]; a length-seven string, like '1111100'; or a string\n",
      "        like \"Mon Tue Wed Thu Fri\", made up of 3-character abbreviations for\n",
      "        weekdays, optionally separated by white space. Valid abbreviations\n",
      "        are: Mon Tue Wed Thu Fri Sat Sun\n",
      "    holidays : array_like of datetime64[D], optional\n",
      "        An array of dates to consider as invalid dates.  They may be\n",
      "        specified in any order, and NaT (not-a-time) dates are ignored.\n",
      "        This list is saved in a normalized form that is suited for\n",
      "        fast calculations of valid days.\n",
      "    busdaycal : busdaycalendar, optional\n",
      "        A `busdaycalendar` object which specifies the valid days. If this\n",
      "        parameter is provided, neither weekmask nor holidays may be\n",
      "        provided.\n",
      "    out : array of int, optional\n",
      "        If provided, this array is filled with the result.\n",
      "    \n",
      "    Returns\n",
      "    -------\n",
      "    out : array of int\n",
      "        An array with a shape from broadcasting ``begindates`` and ``enddates``\n",
      "        together, containing the number of valid days between\n",
      "        the begin and end dates.\n",
      "    \n",
      "    See Also\n",
      "    --------\n",
      "    busdaycalendar: An object that specifies a custom set of valid days.\n",
      "    is_busday : Returns a boolean array indicating valid days.\n",
      "    busday_offset : Applies an offset counted in valid days.\n",
      "    \n",
      "    Examples\n",
      "    --------\n",
      "    >>> # Number of weekdays in January 2011\n",
      "    ... np.busday_count('2011-01', '2011-02')\n",
      "    21\n",
      "    >>> # Number of weekdays in 2011\n",
      "    >>> np.busday_count('2011', '2012')\n",
      "    260\n",
      "    >>> # Number of Saturdays in 2011\n",
      "    ... np.busday_count('2011', '2012', weekmask='Sat')\n",
      "    53\n",
      "\n"
     ]
    }
   ],
   "source": [
    "help(np.busday_count)"
   ]
  },
  {
   "cell_type": "markdown",
   "metadata": {},
   "source": [
    "Here we'll create our own function which calculates day counts according to a few conventions (passed as options). "
   ]
  },
  {
   "cell_type": "code",
   "execution_count": 26,
   "metadata": {},
   "outputs": [],
   "source": [
    "def day_count(start_date : dt.datetime, end_date : dt.datetime, convention = 'Actual/Actual', inclusive = False):\n",
    "    \"\"\" Computed day coount between two days, according to \n",
    "    convention (see list below). Option to include the last date.\n",
    "    Format: YYYY-MM-DD\n",
    "    Conventions:\n",
    "        * Actual/Actual (default): each month and year is composed \n",
    "        of its actual amount of days. \n",
    "        * 30/360: months are assumed to have 30 days and a year \n",
    "        is composed of 12 such months.\n",
    "    \"\"\"\n",
    "    if isinstance(start_date, str):\n",
    "        start = dt.datetime.strptime(start_date,'%Y-%m-%d')\n",
    "    else: start = start_date\n",
    "    if isinstance(end_date, str):\n",
    "        end = dt.datetime.strptime(end_date, '%Y-%m-%d')\n",
    "    else:\n",
    "        end = end_date\n",
    "    if start > end: \n",
    "        raise ValueError(\"Start date must be earlier than end date.\")\n",
    "    if convention == 'Actual/Actual':\n",
    "        return (end - start).days\n",
    "    if convention == '30/360':\n",
    "        year_difference = 360*(end.year - start.year)\n",
    "        month_difference = 30*((end.month - start.month) - 1)\n",
    "        days_difference = min(end.day, 30) + max(30 - start.day, 0)\n",
    "        return year_difference + month_difference + days_difference\n",
    "    "
   ]
  },
  {
   "cell_type": "code",
   "execution_count": 28,
   "metadata": {},
   "outputs": [
    {
     "name": "stdout",
     "output_type": "stream",
     "text": [
      "720\n",
      "869\n",
      "858\n"
     ]
    }
   ],
   "source": [
    "# Tests\n",
    "\n",
    "# Mixed input\n",
    "print(day_count(dt.datetime.now(), '2022-12-31'))\n",
    "\n",
    "# Start > end (uncomment to see error)\n",
    "# print(day_count(dt.datetime.now(), '2020-12-04'))\n",
    "\n",
    "# default\n",
    "print(day_count('2018-02-24', '2020-07-12'))\n",
    "\n",
    "# /360 convention\n",
    "print(day_count('2018-02-24', '2020-07-12', '30/360'))"
   ]
  },
  {
   "cell_type": "markdown",
   "metadata": {},
   "source": [
    "## Present and Future Value\n",
    "\n",
    "The concepts of <i> present value</i> and Mi> future value <.i> help us to think about how interest rates affect the price of many financial securities. \n",
    "\n",
    "They also allow us to re-express the price and associated cash flows of an asset in terms of the implied interest rate it pays, giving us a common basis for comparing two assets whose cash flows occurt at different times. \n",
    "\n",
    "present and future value of cash flows are basis concepts used in the valuation, and therefore, comparison of cash flows. \n",
    "\n",
    "### Single Cash Flow Case\n",
    "\n",
    "We'll describe future and present value first in terms of single cahs flow. \n",
    "\n",
    "#### Future Value\n",
    "The future value, FV, is the total value realized from investing $S$ at rate $r$, compounded with frequency $k$ for $n$ years: \n",
    "\n",
    "$$FV[S|r, k, n] = S\\left( 1+ \\frac{r}{k} \\right)^{nk}$$\n",
    "\n",
    "$$FV[S| r, \\infty, n] = Se^{nr}$$"
   ]
  },
  {
   "cell_type": "code",
   "execution_count": 29,
   "metadata": {},
   "outputs": [
    {
     "data": {
      "text/plain": [
       "1645.3089347785854"
      ]
     },
     "execution_count": 29,
     "metadata": {},
     "output_type": "execute_result"
    }
   ],
   "source": [
    "FV(1000, 0.1, 12, 5)"
   ]
  },
  {
   "cell_type": "code",
   "execution_count": 30,
   "metadata": {},
   "outputs": [
    {
     "data": {
      "text/plain": [
       "1648.7212707001281"
      ]
     },
     "execution_count": 30,
     "metadata": {},
     "output_type": "execute_result"
    }
   ],
   "source": [
    "FV_cont(1000, 0.1, 5)"
   ]
  },
  {
   "cell_type": "markdown",
   "metadata": {},
   "source": [
    "#### Present value\n",
    "\n",
    "The present value is the amount one would need to invest now to realize a given future cash flow. The present value, $PV$, of a cash flow $F$ at interest rate $r$ with compounding frequency $k$ received $n$ years in the future is:\n",
    "\n",
    "$$PV[F|r,k,m] = \\frac{F}{\\left(1+\\frac{r}{k}\\right)^{nk}}$$\n",
    "\n",
    "$$PV[F|r, \\infty, n] = Fe^{-nr}$$\n",
    "\n",
    "Alternatively, it can be said that the $PV$ value represented the <i> discounted value </i> of $F$. The value \n",
    "$$\\left(1+\\frac{r}{k}\\right)^{nk}$$\n",
    "is called the <i> discount factor </i>.\n"
   ]
  },
  {
   "cell_type": "code",
   "execution_count": 31,
   "metadata": {},
   "outputs": [],
   "source": [
    "def PV(f, r, k, n):\n",
    "    \"\"\"Given a future value, nominal annual rate r,\n",
    "    and a term n (in years), for loan compounded in frequency k,\n",
    "    computes the present value.\"\"\"\n",
    "    return  f*((1+r/k)**(-n*k))"
   ]
  },
  {
   "cell_type": "code",
   "execution_count": 32,
   "metadata": {},
   "outputs": [
    {
     "data": {
      "text/plain": [
       "689.6798935284226"
      ]
     },
     "execution_count": 32,
     "metadata": {},
     "output_type": "execute_result"
    }
   ],
   "source": [
    "# The present value of $1000 at 7.5% compounded quarterly\n",
    "# receive 5 years hence is:\n",
    "\n",
    "PV(1000, 0.075, 4,5)"
   ]
  },
  {
   "cell_type": "code",
   "execution_count": 33,
   "metadata": {},
   "outputs": [],
   "source": [
    "def PV_cont(f, r, n):\n",
    "    \"\"\"Given a future value, nominal annual rate r,\n",
    "    and a term n (in years), for a continuously compounded loan,\n",
    "    computes the present value.\"\"\"\n",
    "    return  f*math.exp(-n*r)"
   ]
  },
  {
   "cell_type": "code",
   "execution_count": 34,
   "metadata": {},
   "outputs": [
    {
     "data": {
      "text/plain": [
       "687.2892787909723"
      ]
     },
     "execution_count": 34,
     "metadata": {},
     "output_type": "execute_result"
    }
   ],
   "source": [
    "PV_cont(1000, 0.075, 5)"
   ]
  },
  {
   "cell_type": "markdown",
   "metadata": {},
   "source": [
    "### Multiple cash flows\n",
    "\n",
    "The computations of the $FV$ and $PV$ for multiple cash flows are straightforward generalizations of the single cashflow cases. Let $c_i$ denote the $i$-th cash-flow of $1+nk$ cash flows generated over $n$ years with compounding frequency $k$. \n",
    "\n",
    "#### Future value\n",
    "\n",
    "The $o$-th cash flow experiences compound interest for $nk-i$ periods. We then sum the resulting $FV$s over all periods."
   ]
  },
  {
   "cell_type": "code",
   "execution_count": 35,
   "metadata": {},
   "outputs": [],
   "source": [
    "def FV_multiple(cash_flows: np.array, r, k, n):\n",
    "    interest_factors = np.array([(1+r/k)**(n*k-i) for i in range (n*k+1)])\n",
    "    return np.dot(cash_flows, interest_factors)"
   ]
  },
  {
   "cell_type": "code",
   "execution_count": 36,
   "metadata": {},
   "outputs": [],
   "source": [
    "inflows = np.full(60, 100)"
   ]
  },
  {
   "cell_type": "code",
   "execution_count": 37,
   "metadata": {},
   "outputs": [
    {
     "data": {
      "text/plain": [
       "array([100, 100, 100, 100, 100, 100, 100, 100, 100, 100, 100, 100, 100,\n",
       "       100, 100, 100, 100, 100, 100, 100, 100, 100, 100, 100, 100, 100,\n",
       "       100, 100, 100, 100, 100, 100, 100, 100, 100, 100, 100, 100, 100,\n",
       "       100, 100, 100, 100, 100, 100, 100, 100, 100, 100, 100, 100, 100,\n",
       "       100, 100, 100, 100, 100, 100, 100, 100])"
      ]
     },
     "execution_count": 37,
     "metadata": {},
     "output_type": "execute_result"
    }
   ],
   "source": [
    "inflows"
   ]
  },
  {
   "cell_type": "code",
   "execution_count": 38,
   "metadata": {},
   "outputs": [],
   "source": [
    "inflows = np.insert(inflows,0, 1000)"
   ]
  },
  {
   "cell_type": "code",
   "execution_count": 39,
   "metadata": {},
   "outputs": [
    {
     "data": {
      "text/plain": [
       "array([1000,  100,  100,  100,  100,  100,  100,  100,  100,  100,  100,\n",
       "        100,  100,  100,  100,  100,  100,  100,  100,  100,  100,  100,\n",
       "        100,  100,  100,  100,  100,  100,  100,  100,  100,  100,  100,\n",
       "        100,  100,  100,  100,  100,  100,  100,  100,  100,  100,  100,\n",
       "        100,  100,  100,  100,  100,  100,  100,  100,  100,  100,  100,\n",
       "        100,  100,  100,  100,  100,  100])"
      ]
     },
     "execution_count": 39,
     "metadata": {},
     "output_type": "execute_result"
    }
   ],
   "source": [
    "inflows"
   ]
  },
  {
   "cell_type": "code",
   "execution_count": 40,
   "metadata": {},
   "outputs": [
    {
     "data": {
      "text/plain": [
       "array([1645.30893478,  163.17113403,  161.82261226,  160.4852353 ,\n",
       "        159.15891104,  157.84354814,  156.539056  ,  155.2453448 ,\n",
       "        153.96232542,  152.68990951,  151.42800943,  150.17653828,\n",
       "        148.93540986,  147.7045387 ,  146.48384004,  145.27322979,\n",
       "        144.07262458,  142.88194174,  141.70109924,  140.53001578,\n",
       "        139.36861069,  138.21680399,  137.07451635,  135.94166911,\n",
       "        134.81818424,  133.70398437,  132.59899277,  131.50313332,\n",
       "        130.41633057,  129.33850965,  128.26959635,  127.20951704,\n",
       "        126.15819872,  125.11556898,  124.08155601,  123.05608861,\n",
       "        122.03909614,  121.03050857,  120.03025643,  119.03827084,\n",
       "        118.05448348,  117.07882659,  116.11123298,  115.15163601,\n",
       "        114.1999696 ,  113.2561682 ,  112.32016681,  111.39190097,\n",
       "        110.47130674,  109.55832074,  108.65288007,  107.75492238,\n",
       "        106.86438584,  105.98120909,  105.10533133,  104.23669223,\n",
       "        103.37523196,  102.5208912 ,  101.67361111,  100.83333333,\n",
       "        100.        ])"
      ]
     },
     "execution_count": 40,
     "metadata": {},
     "output_type": "execute_result"
    }
   ],
   "source": [
    "np.array([inflows[i]*((1+0.1/12)**(5*12-i)) for i in range (5*12+1)])"
   ]
  },
  {
   "cell_type": "code",
   "execution_count": 41,
   "metadata": {},
   "outputs": [
    {
     "data": {
      "text/plain": [
       "9389.01615212164"
      ]
     },
     "execution_count": 41,
     "metadata": {},
     "output_type": "execute_result"
    }
   ],
   "source": [
    "FV_multiple(inflows, 0.1, 12, 5)"
   ]
  },
  {
   "cell_type": "markdown",
   "metadata": {},
   "source": [
    "#### Present value \n",
    "\n",
    "The $i$th vash flow is discounted for $i$ preiods. We then sum the resulting $PV$s over all periords:\n",
    "\n",
    "$$PV[(c_0, c_1, \\cdots, c_{nk})|r, k, n] = \\sum_{i=0}^{nk} c_i\\left(1+\\frac{r}{k}\\right)^{-i}$$\n",
    "\n",
    "The terms \n",
    "$$\\left(1+\\frac{r}{k}\\right)^{-i}$$\n",
    "are called <i>discount factors</i>. If we have a vector of cash flows $C$ and a vector of associated discount factors, then working from the summation above, the $PV$ is the inner product of the cash flows and their associated discount factors. \n",
    "\n",
    "If we have a vector of cash flows and a vector of discount factors, the $PV$ is the inner product of the cash flows and their associated discount factors. "
   ]
  },
  {
   "cell_type": "code",
   "execution_count": 42,
   "metadata": {},
   "outputs": [],
   "source": [
    "def PV_multiple(cash_flows:np.array, r, k, n):\n",
    "    discount_factors = np.array([(1+r/k)**(-i) for i in range(n*k+1)])\n",
    "    return cash_flows.dot(discount_factors)"
   ]
  },
  {
   "cell_type": "code",
   "execution_count": 43,
   "metadata": {},
   "outputs": [
    {
     "data": {
      "text/plain": [
       "454.595050416236"
      ]
     },
     "execution_count": 43,
     "metadata": {},
     "output_type": "execute_result"
    }
   ],
   "source": [
    "PV_multiple(np.full(5, 100), 0.1, 2, 2)"
   ]
  },
  {
   "cell_type": "markdown",
   "metadata": {},
   "source": [
    "#### Internal Rate of Return (or Yield)\n",
    "\n",
    "<p>The internal rate of return, IRR, is that interest rate consistent with a $PV$ of $0$ for a given set of cash flows. Consider a case where the cash flows are received at each compounding interval. Then, \n",
    "$$IRR[(c_0, c_1, \\cdots, c_{nk})| k, n] = \\left\\{y \\left| \\sum_{i=0}^{nk} c_i\\left(1+\\frac{y}{k}\\right)^{-i} \\right. \\right\\}$$\n",
    "</p>\n",
    "<p>Except in special cases, the IRR does not have a closed form solution and must be estimated numerically. </p>\n",
    "\n",
    "### Examples\n",
    "\n",
    "#### PV of stream of constant cash flows\n",
    "\n",
    "$$PV\\left[ c \\ \\mbox{received at } \\frac{1}{k} \\mbox{ to } n \\mbox{ in steps of } \\frac{1}{k} \\Big| r, k, n \\right] = c\\sum_{i=1}^{nk} \\left( 1+ \\frac{r}{k}\\right)^{-i},$$\n",
    "\n",
    "or in closed form\n",
    "\n",
    "$$PV\\left[ c \\ \\mbox{received at } \\frac{1}{k} \\mbox{ to } n \\mbox{ in steps of } \\frac{1}{k} \\Big| r, k, n \\right] = \\frac{ck((k+r)^n-k^n)}{r(k+r)^n}$$"
   ]
  },
  {
   "cell_type": "code",
   "execution_count": 44,
   "metadata": {},
   "outputs": [
    {
     "name": "stdout",
     "output_type": "stream",
     "text": [
      "CPU times: user 153 µs, sys: 19 µs, total: 172 µs\n",
      "Wall time: 183 µs\n"
     ]
    },
    {
     "data": {
      "text/plain": [
       "82421.48089338184"
      ]
     },
     "execution_count": 44,
     "metadata": {},
     "output_type": "execute_result"
    }
   ],
   "source": [
    "%%time\n",
    "arr = np.array([1/(1+0.08/12)**i for i in range(1,121)])\n",
    "1000*np.sum(arr)"
   ]
  },
  {
   "cell_type": "code",
   "execution_count": 45,
   "metadata": {},
   "outputs": [
    {
     "name": "stdout",
     "output_type": "stream",
     "text": [
      "CPU times: user 107 µs, sys: 6 µs, total: 113 µs\n",
      "Wall time: 223 µs\n"
     ]
    },
    {
     "data": {
      "text/plain": [
       "82421.48089338184"
      ]
     },
     "execution_count": 45,
     "metadata": {},
     "output_type": "execute_result"
    }
   ],
   "source": [
    "%%time \n",
    "1000*np.sum([1/(1+0.08/12)**i for i in range(1,121)])"
   ]
  },
  {
   "cell_type": "code",
   "execution_count": 46,
   "metadata": {},
   "outputs": [
    {
     "name": "stdout",
     "output_type": "stream",
     "text": [
      "CPU times: user 2 µs, sys: 1e+03 ns, total: 3 µs\n",
      "Wall time: 5.01 µs\n"
     ]
    },
    {
     "data": {
      "text/plain": [
       "82421.48089338184"
      ]
     },
     "execution_count": 46,
     "metadata": {},
     "output_type": "execute_result"
    }
   ],
   "source": [
    "%%time\n",
    "(1000*12/0.08)*(1-(12/(12+0.08))**120)"
   ]
  },
  {
   "cell_type": "markdown",
   "metadata": {},
   "source": [
    "Using the closed formula takes considerably less time\n",
    "\n",
    "#### PV of periodic cash flows twith continuous compounding\n",
    "\n",
    "Consider a series of monthly payments of $\\$200$ for $10.5$ years at $4\\%$ compounded continuously. Note that the $i$th payment occurs at time $i/k$:\n",
    "\n",
    "$$PV = 200\\sum_{i=1}^{10.5*12}e^{-\\frac{ir}{k}}$$\n",
    "\n",
    "#### IRR example\n",
    "\n",
    "Consider a case in which an investor buys a bond for $\\$950$ that pays a semi-annual coupon of $\\$50$ for 10 years. For the final payment the investor receives a settlement of $\\$1000$ in addition to the last coupon payment. \n",
    "\n",
    "We'll use a brute force approach here but will show later how it can be considerably simplified. "
   ]
  },
  {
   "cell_type": "code",
   "execution_count": 47,
   "metadata": {},
   "outputs": [
    {
     "data": {
      "text/plain": [
       "array([-950,   50,   50,   50,   50,   50,   50,   50,   50,   50,   50,\n",
       "         50,   50,   50,   50,   50,   50,   50,   50,   50, 1050])"
      ]
     },
     "execution_count": 47,
     "metadata": {},
     "output_type": "execute_result"
    }
   ],
   "source": [
    "vnCashFlows = np.array([50 if (i > 0 and i <20) else -950 if i == 0 else 1050  for i in range(21)])\n",
    "vnCashFlows"
   ]
  },
  {
   "cell_type": "markdown",
   "metadata": {},
   "source": [
    "The cash flow diagram for this problem from the bond purchaser's perspective is:\n",
    "\n",
    "<img src = 'Images/img6.png' width = 300 ehgith = 200>\n",
    "\n",
    "The associated discount factors for each period are:"
   ]
  },
  {
   "cell_type": "code",
   "execution_count": 48,
   "metadata": {
    "scrolled": true
   },
   "outputs": [
    {
     "data": {
      "text/plain": [
       "array([1, 1/(y/2 + 1), (y/2 + 1)**(-2), (y/2 + 1)**(-3), (y/2 + 1)**(-4),\n",
       "       (y/2 + 1)**(-5), (y/2 + 1)**(-6), (y/2 + 1)**(-7), (y/2 + 1)**(-8),\n",
       "       (y/2 + 1)**(-9), (y/2 + 1)**(-10), (y/2 + 1)**(-11),\n",
       "       (y/2 + 1)**(-12), (y/2 + 1)**(-13), (y/2 + 1)**(-14),\n",
       "       (y/2 + 1)**(-15), (y/2 + 1)**(-16), (y/2 + 1)**(-17),\n",
       "       (y/2 + 1)**(-18), (y/2 + 1)**(-19), (y/2 + 1)**(-20)], dtype=object)"
      ]
     },
     "execution_count": 48,
     "metadata": {},
     "output_type": "execute_result"
    }
   ],
   "source": [
    "# Notice the dtype 'object'\n",
    "y = sym.symbols('y')\n",
    "vnDiscountFactors = np.array([(1+y/2)**(-i) for i in range(21)])\n",
    "vnDiscountFactors"
   ]
  },
  {
   "cell_type": "code",
   "execution_count": 49,
   "metadata": {
    "scrolled": true
   },
   "outputs": [
    {
     "data": {
      "text/latex": [
       "$\\displaystyle -950 + \\frac{50}{\\frac{y}{2} + 1} + \\frac{50}{\\left(\\frac{y}{2} + 1\\right)^{2}} + \\frac{50}{\\left(\\frac{y}{2} + 1\\right)^{3}} + \\frac{50}{\\left(\\frac{y}{2} + 1\\right)^{4}} + \\frac{50}{\\left(\\frac{y}{2} + 1\\right)^{5}} + \\frac{50}{\\left(\\frac{y}{2} + 1\\right)^{6}} + \\frac{50}{\\left(\\frac{y}{2} + 1\\right)^{7}} + \\frac{50}{\\left(\\frac{y}{2} + 1\\right)^{8}} + \\frac{50}{\\left(\\frac{y}{2} + 1\\right)^{9}} + \\frac{50}{\\left(\\frac{y}{2} + 1\\right)^{10}} + \\frac{50}{\\left(\\frac{y}{2} + 1\\right)^{11}} + \\frac{50}{\\left(\\frac{y}{2} + 1\\right)^{12}} + \\frac{50}{\\left(\\frac{y}{2} + 1\\right)^{13}} + \\frac{50}{\\left(\\frac{y}{2} + 1\\right)^{14}} + \\frac{50}{\\left(\\frac{y}{2} + 1\\right)^{15}} + \\frac{50}{\\left(\\frac{y}{2} + 1\\right)^{16}} + \\frac{50}{\\left(\\frac{y}{2} + 1\\right)^{17}} + \\frac{50}{\\left(\\frac{y}{2} + 1\\right)^{18}} + \\frac{50}{\\left(\\frac{y}{2} + 1\\right)^{19}} + \\frac{1050}{\\left(\\frac{y}{2} + 1\\right)^{20}}$"
      ],
      "text/plain": [
       "-950 + 50/(y/2 + 1) + 50/(y/2 + 1)**2 + 50/(y/2 + 1)**3 + 50/(y/2 + 1)**4 + 50/(y/2 + 1)**5 + 50/(y/2 + 1)**6 + 50/(y/2 + 1)**7 + 50/(y/2 + 1)**8 + 50/(y/2 + 1)**9 + 50/(y/2 + 1)**10 + 50/(y/2 + 1)**11 + 50/(y/2 + 1)**12 + 50/(y/2 + 1)**13 + 50/(y/2 + 1)**14 + 50/(y/2 + 1)**15 + 50/(y/2 + 1)**16 + 50/(y/2 + 1)**17 + 50/(y/2 + 1)**18 + 50/(y/2 + 1)**19 + 1050/(y/2 + 1)**20"
      ]
     },
     "execution_count": 49,
     "metadata": {},
     "output_type": "execute_result"
    }
   ],
   "source": [
    "pv = vnCashFlows.dot(vnDiscountFactors)\n",
    "pv"
   ]
  },
  {
   "cell_type": "markdown",
   "metadata": {},
   "source": [
    "The above is a symbolic expression in sympy"
   ]
  },
  {
   "cell_type": "code",
   "execution_count": 50,
   "metadata": {},
   "outputs": [
    {
     "data": {
      "text/plain": [
       "sympy.core.add.Add"
      ]
     },
     "execution_count": 50,
     "metadata": {},
     "output_type": "execute_result"
    }
   ],
   "source": [
    "type(pv)"
   ]
  },
  {
   "cell_type": "markdown",
   "metadata": {},
   "source": [
    "Next we need a way to solve an equation for y. Sympy has limited capability to solve this symbolically, which is typically not possible in this case (although the equation can be written polynomial, its degree it greater than 5). Instead, we will use numerical optimization methods from scipy, in the form of <a href= \"https://docs.scipy.org/doc/scipy/reference/tutorial/optimize.html#root-finding\" target = \"_blank\">root finding algorithms</a>.  Here we will use <a href=\"https://en.wikipedia.org/wiki/Brent%27s_method\" target=\"_blank\">Brent's method</a>."
   ]
  },
  {
   "cell_type": "code",
   "execution_count": 51,
   "metadata": {},
   "outputs": [
    {
     "name": "stdout",
     "output_type": "stream",
     "text": [
      "Help on function brentq in module scipy.optimize.zeros:\n",
      "\n",
      "brentq(f, a, b, args=(), xtol=2e-12, rtol=8.881784197001252e-16, maxiter=100, full_output=False, disp=True)\n",
      "    Find a root of a function in a bracketing interval using Brent's method.\n",
      "    \n",
      "    Uses the classic Brent's method to find a zero of the function `f` on\n",
      "    the sign changing interval [a , b]. Generally considered the best of the\n",
      "    rootfinding routines here. It is a safe version of the secant method that\n",
      "    uses inverse quadratic extrapolation. Brent's method combines root\n",
      "    bracketing, interval bisection, and inverse quadratic interpolation. It is\n",
      "    sometimes known as the van Wijngaarden-Dekker-Brent method. Brent (1973)\n",
      "    claims convergence is guaranteed for functions computable within [a,b].\n",
      "    \n",
      "    [Brent1973]_ provides the classic description of the algorithm. Another\n",
      "    description can be found in a recent edition of Numerical Recipes, including\n",
      "    [PressEtal1992]_. A third description is at\n",
      "    http://mathworld.wolfram.com/BrentsMethod.html. It should be easy to\n",
      "    understand the algorithm just by reading our code. Our code diverges a bit\n",
      "    from standard presentations: we choose a different formula for the\n",
      "    extrapolation step.\n",
      "    \n",
      "    Parameters\n",
      "    ----------\n",
      "    f : function\n",
      "        Python function returning a number. The function :math:`f`\n",
      "        must be continuous, and :math:`f(a)` and :math:`f(b)` must\n",
      "        have opposite signs.\n",
      "    a : scalar\n",
      "        One end of the bracketing interval :math:`[a, b]`.\n",
      "    b : scalar\n",
      "        The other end of the bracketing interval :math:`[a, b]`.\n",
      "    xtol : number, optional\n",
      "        The computed root ``x0`` will satisfy ``np.allclose(x, x0,\n",
      "        atol=xtol, rtol=rtol)``, where ``x`` is the exact root. The\n",
      "        parameter must be nonnegative. For nice functions, Brent's\n",
      "        method will often satisfy the above condition with ``xtol/2``\n",
      "        and ``rtol/2``. [Brent1973]_\n",
      "    rtol : number, optional\n",
      "        The computed root ``x0`` will satisfy ``np.allclose(x, x0,\n",
      "        atol=xtol, rtol=rtol)``, where ``x`` is the exact root. The\n",
      "        parameter cannot be smaller than its default value of\n",
      "        ``4*np.finfo(float).eps``. For nice functions, Brent's\n",
      "        method will often satisfy the above condition with ``xtol/2``\n",
      "        and ``rtol/2``. [Brent1973]_\n",
      "    maxiter : int, optional\n",
      "        If convergence is not achieved in `maxiter` iterations, an error is\n",
      "        raised. Must be >= 0.\n",
      "    args : tuple, optional\n",
      "        Containing extra arguments for the function `f`.\n",
      "        `f` is called by ``apply(f, (x)+args)``.\n",
      "    full_output : bool, optional\n",
      "        If `full_output` is False, the root is returned. If `full_output` is\n",
      "        True, the return value is ``(x, r)``, where `x` is the root, and `r` is\n",
      "        a `RootResults` object.\n",
      "    disp : bool, optional\n",
      "        If True, raise RuntimeError if the algorithm didn't converge.\n",
      "        Otherwise, the convergence status is recorded in any `RootResults`\n",
      "        return object.\n",
      "    \n",
      "    Returns\n",
      "    -------\n",
      "    x0 : float\n",
      "        Zero of `f` between `a` and `b`.\n",
      "    r : `RootResults` (present if ``full_output = True``)\n",
      "        Object containing information about the convergence. In particular,\n",
      "        ``r.converged`` is True if the routine converged.\n",
      "    \n",
      "    Notes\n",
      "    -----\n",
      "    `f` must be continuous.  f(a) and f(b) must have opposite signs.\n",
      "    \n",
      "    Related functions fall into several classes:\n",
      "    \n",
      "    multivariate local optimizers\n",
      "      `fmin`, `fmin_powell`, `fmin_cg`, `fmin_bfgs`, `fmin_ncg`\n",
      "    nonlinear least squares minimizer\n",
      "      `leastsq`\n",
      "    constrained multivariate optimizers\n",
      "      `fmin_l_bfgs_b`, `fmin_tnc`, `fmin_cobyla`\n",
      "    global optimizers\n",
      "      `basinhopping`, `brute`, `differential_evolution`\n",
      "    local scalar minimizers\n",
      "      `fminbound`, `brent`, `golden`, `bracket`\n",
      "    N-D root-finding\n",
      "      `fsolve`\n",
      "    1-D root-finding\n",
      "      `brenth`, `ridder`, `bisect`, `newton`\n",
      "    scalar fixed-point finder\n",
      "      `fixed_point`\n",
      "    \n",
      "    References\n",
      "    ----------\n",
      "    .. [Brent1973]\n",
      "       Brent, R. P.,\n",
      "       *Algorithms for Minimization Without Derivatives*.\n",
      "       Englewood Cliffs, NJ: Prentice-Hall, 1973. Ch. 3-4.\n",
      "    \n",
      "    .. [PressEtal1992]\n",
      "       Press, W. H.; Flannery, B. P.; Teukolsky, S. A.; and Vetterling, W. T.\n",
      "       *Numerical Recipes in FORTRAN: The Art of Scientific Computing*, 2nd ed.\n",
      "       Cambridge, England: Cambridge University Press, pp. 352-355, 1992.\n",
      "       Section 9.3:  \"Van Wijngaarden-Dekker-Brent Method.\"\n",
      "    \n",
      "    Examples\n",
      "    --------\n",
      "    >>> def f(x):\n",
      "    ...     return (x**2 - 1)\n",
      "    \n",
      "    >>> from scipy import optimize\n",
      "    \n",
      "    >>> root = optimize.brentq(f, -2, 0)\n",
      "    >>> root\n",
      "    -1.0\n",
      "    \n",
      "    >>> root = optimize.brentq(f, 0, 2)\n",
      "    >>> root\n",
      "    1.0\n",
      "\n"
     ]
    }
   ],
   "source": [
    "help(optimize.brentq)"
   ]
  },
  {
   "cell_type": "markdown",
   "metadata": {},
   "source": [
    "Brent's method takes as input a <i>continuous</i> (scalar) function and two <i>guesses</i>, $a_1 < a_2$, values where the function has opposite signs (therefore, by the Intermediate Value Theorem, the existence of a root between them is guaranteed). \n",
    "\n",
    "We already defined a function to compute present values, PV_multiple, and we'll make it scalar by passing in other arguments."
   ]
  },
  {
   "cell_type": "code",
   "execution_count": 52,
   "metadata": {},
   "outputs": [],
   "source": [
    "def fxPV(rate):\n",
    "    return PV_multiple(vnCashFlows, rate, 2, 10)"
   ]
  },
  {
   "cell_type": "markdown",
   "metadata": {},
   "source": [
    "Let's graph it to get a sense for the guesses. In our example, the bond pays $100$ per year and the price is $950$, so our initial estimate is that the yield is $100/950$, and we'll graph the function nearby this value. "
   ]
  },
  {
   "cell_type": "code",
   "execution_count": 53,
   "metadata": {
    "scrolled": true
   },
   "outputs": [
    {
     "data": {
      "image/png": "[encoded data removed]",
      "text/plain": [
       "<Figure size 432x288 with 1 Axes>"
      ]
     },
     "metadata": {},
     "output_type": "display_data"
    }
   ],
   "source": [
    "rates = np.linspace(0.001, 0.2, 100)\n",
    "\n",
    "present_values = np.array([fxPV(rate) for rate in rates])\n",
    "intercept = np.zeros(len(rates))\n",
    "\n",
    "fig, ax = plt.subplots(figsize = (6,4))\n",
    "ax.plot(rates, present_values)\n",
    "ax.plot(rates,intercept, '--')\n",
    "ax.set(xlabel='Rates', ylabel='Present value ($)',\n",
    "       title='Periodic cash flows twith continuous compounding')\n",
    "ax.grid()\n",
    "\n",
    "plt.show()"
   ]
  },
  {
   "cell_type": "markdown",
   "metadata": {},
   "source": [
    "We'll use as rough estimates $a_1 = 0.1$, $a_2 = 0.125$ in our call to brentq."
   ]
  },
  {
   "cell_type": "code",
   "execution_count": 54,
   "metadata": {},
   "outputs": [
    {
     "data": {
      "text/plain": [
       "0.10830934339596773"
      ]
     },
     "execution_count": 54,
     "metadata": {},
     "output_type": "execute_result"
    }
   ],
   "source": [
    "optimize.brentq(fxPV, 0.1, 0.125)"
   ]
  },
  {
   "cell_type": "markdown",
   "metadata": {},
   "source": [
    "The IRR for this cash-flow problem is $10.83\\%$. "
   ]
  },
  {
   "cell_type": "markdown",
   "metadata": {},
   "source": [
    "### Tools for PV and FV calculations"
   ]
  },
  {
   "cell_type": "markdown",
   "metadata": {},
   "source": [
    "Mathematica contains various built-in functions for computaitons of PV e FV. These are based on the compounding interval, $q$, rather than the the compounding frequency $k$. \n",
    "\n",
    "We'll define simmilar functions in Python."
   ]
  },
  {
   "cell_type": "code",
   "execution_count": 55,
   "metadata": {},
   "outputs": [],
   "source": [
    "def time_value(s, r, t):\n",
    "    \"\"\"Calculates the time value of a security s at t \n",
    "    compounding periods, for a nominal interest specified by r. \n",
    "    Computes future value if t is positive\n",
    "    and present value if t is negative.\n",
    "    If t_0 is specified, computes \"\"\"\n",
    "    return s*((1+r)**t)"
   ]
  },
  {
   "cell_type": "code",
   "execution_count": 56,
   "metadata": {},
   "outputs": [
    {
     "data": {
      "text/plain": [
       "1157.6250000000002"
      ]
     },
     "execution_count": 56,
     "metadata": {},
     "output_type": "execute_result"
    }
   ],
   "source": [
    "# Future value of $1000 at an effective rate of 5% for 3\n",
    "# compounding periods\n",
    "\n",
    "time_value(1000, 0.05, 3)"
   ]
  },
  {
   "cell_type": "code",
   "execution_count": 57,
   "metadata": {},
   "outputs": [
    {
     "data": {
      "text/plain": [
       "863.837598531476"
      ]
     },
     "execution_count": 57,
     "metadata": {},
     "output_type": "execute_result"
    }
   ],
   "source": [
    "# Present value of $1000 at 5% for 3 compounding periods\n",
    "\n",
    "time_value(1000, 0.05, -3)"
   ]
  },
  {
   "cell_type": "markdown",
   "metadata": {},
   "source": [
    "Next we define a function to compute effective interest rates. "
   ]
  },
  {
   "cell_type": "code",
   "execution_count": 58,
   "metadata": {},
   "outputs": [],
   "source": [
    "def effective_interest(r, q):\n",
    "    \"\"\"Gives the effective interest rate corresponding to interest\n",
    "    specification r, compounded at time intervals q.\"\"\"\n",
    "    return (1+q*r)**(1/q)-1"
   ]
  },
  {
   "cell_type": "code",
   "execution_count": 59,
   "metadata": {
    "scrolled": true
   },
   "outputs": [
    {
     "data": {
      "text/plain": [
       "0.051161897881732976"
      ]
     },
     "execution_count": 59,
     "metadata": {},
     "output_type": "execute_result"
    }
   ],
   "source": [
    "effective_interest(0.05, 1/12)"
   ]
  },
  {
   "cell_type": "markdown",
   "metadata": {},
   "source": [
    "Future value of $1000$ at an interest rate of $5\\%$ compounded quarterly for 10 years."
   ]
  },
  {
   "cell_type": "code",
   "execution_count": 60,
   "metadata": {},
   "outputs": [
    {
     "data": {
      "text/plain": [
       "1643.619463487009"
      ]
     },
     "execution_count": 60,
     "metadata": {},
     "output_type": "execute_result"
    }
   ],
   "source": [
    "time_value(1000, effective_interest(0.05, 1/4), 10)"
   ]
  },
  {
   "cell_type": "markdown",
   "metadata": {},
   "source": [
    "Present value of $\\$1999$ at $5\\%$ interest compounded semi-annually, received in 10 years. "
   ]
  },
  {
   "cell_type": "code",
   "execution_count": 61,
   "metadata": {},
   "outputs": [
    {
     "data": {
      "text/plain": [
       "610.2709428588303"
      ]
     },
     "execution_count": 61,
     "metadata": {},
     "output_type": "execute_result"
    }
   ],
   "source": [
    "time_value(1000, effective_interest(0.05, 1/2), -10)"
   ]
  },
  {
   "cell_type": "code",
   "execution_count": 62,
   "metadata": {},
   "outputs": [],
   "source": [
    "# We can make time_value work with symbolic arguments\n",
    "c = sym.symbols('c')\n",
    "r = sym.symbols('r')\n",
    "n = sym.symbols('n')"
   ]
  },
  {
   "cell_type": "code",
   "execution_count": 63,
   "metadata": {},
   "outputs": [
    {
     "data": {
      "text/latex": [
       "$\\displaystyle c \\left(r + 1\\right)^{n}$"
      ],
      "text/plain": [
       "c*(r + 1)**n"
      ]
     },
     "execution_count": 63,
     "metadata": {},
     "output_type": "execute_result"
    }
   ],
   "source": [
    "time_value(c,r,n)"
   ]
  },
  {
   "cell_type": "markdown",
   "metadata": {},
   "source": [
    "We'll define a function annuity, which creates an array of equaly spaced payments."
   ]
  },
  {
   "cell_type": "code",
   "execution_count": 64,
   "metadata": {},
   "outputs": [],
   "source": [
    "def annuity(v,n, q = 1):\n",
    "    \"\"\"Creates a series of n equal payments (notice this may\n",
    "    not correspond to actual number of time units) occuring at \n",
    "    time intervals q.\"\"\"\n",
    "    return np.array([np.full(n,v), [q*i for i in range(1,n+1)]])"
   ]
  },
  {
   "cell_type": "code",
   "execution_count": 65,
   "metadata": {
    "scrolled": true
   },
   "outputs": [
    {
     "data": {
      "text/plain": [
       "array([[100, 100, 100, 100, 100, 100, 100, 100, 100, 100, 100, 100, 100,\n",
       "        100, 100, 100, 100, 100, 100, 100],\n",
       "       [  1,   2,   3,   4,   5,   6,   7,   8,   9,  10,  11,  12,  13,\n",
       "         14,  15,  16,  17,  18,  19,  20]])"
      ]
     },
     "execution_count": 65,
     "metadata": {},
     "output_type": "execute_result"
    }
   ],
   "source": [
    "annuity(100, 20)"
   ]
  },
  {
   "cell_type": "code",
   "execution_count": 66,
   "metadata": {},
   "outputs": [
    {
     "data": {
      "text/plain": [
       "array([[100. , 100. , 100. , 100. , 100. , 100. , 100. , 100. , 100. ,\n",
       "        100. , 100. , 100. , 100. , 100. , 100. , 100. , 100. , 100. ,\n",
       "        100. , 100. ],\n",
       "       [  0.5,   1. ,   1.5,   2. ,   2.5,   3. ,   3.5,   4. ,   4.5,\n",
       "          5. ,   5.5,   6. ,   6.5,   7. ,   7.5,   8. ,   8.5,   9. ,\n",
       "          9.5,  10. ]])"
      ]
     },
     "execution_count": 66,
     "metadata": {},
     "output_type": "execute_result"
    }
   ],
   "source": [
    "annuity(100, 20, 1/2)"
   ]
  },
  {
   "cell_type": "markdown",
   "metadata": {},
   "source": [
    "We'll also create a function called cash flow, which creates a 2xn array of cash flows, the first row of which denotes time, the second a monetary value."
   ]
  },
  {
   "cell_type": "code",
   "execution_count": 67,
   "metadata": {},
   "outputs": [],
   "source": [
    "#def cash_flow()"
   ]
  },
  {
   "cell_type": "markdown",
   "metadata": {},
   "source": [
    "## Fixed income securities\n",
    "\n",
    "Fixed income securities are financial instruments that represent the seller's promosie to pay a \"fixed\" set of payments to the buyer (https://en.wikipedia.org/wiki/Fixed_income). \n",
    "\n",
    "the term \"fixed\" must be taken in context; the interest reate upon which the payments are based may very with market ocnditions. \n",
    "\n",
    "### Markets for cash\n",
    "\n",
    "#### Savings deposits\n",
    "\n",
    "The simplest is the demand deposit, in which the cash must be return upon the demand of the owner. The other alternates, time deposit accounts and certificates of deposite, require the funds to remain for a fixed period of time. \n",
    "\n",
    "#### Money market instruments\n",
    "\n",
    "These are short-term borrowing by corporations or banks. The term commercial paper is used to describe unsecurer loads of this type. \n",
    "\n",
    "#### U.S. Government securities\n",
    "\n",
    "These are a form of what is called <i>sovereign debt</i>.\n",
    "\n",
    "* <b>U.S. Treasury bills</b>: Issued in denominations of $\\$10,000$ or more and fixed maturities of 12, 26, and 52 weeks. They are sold at discount. Thus, for example, a $\\$10,000$ 12-week bill at a $5\\%$ yield would be sold for $$\\frac{10000}{1+\\frac{0.05}{4}} = 9876.54$$\n",
    "* <b> U.S. Treasury notes</b>: Have maturities of 1 to 10 years and are sold in denominations of $\\$1000$ or more. The holder receives a fixed coupon payment every six months until the end of the term at which time the holder receives the final coupon payment and the return of the face or principal amount of the note. \n",
    "* <b> U.S. Treasury bonds</b>: Have maturities of 10 years or more. They make semi-annual coupon payments like Treasury notes, but are callable, i.e., at scheduled coupon payment dates the Treasury can call the bond, redeeming it by returning the face amount at that time. \n",
    "* <b> U.S. Trasury strips</b>: aer Treasuris whose coupon and principal payments have been stripped into separate instruments. For example, a $\\$1000$, 10-year bond would be stripped into its 20 coupon payments plus its principal. These individual instruments, each of which are a single fixed payment at fixed point in time, are called zero coupon bons. \n",
    "\n",
    "#### Other bonds\n",
    "\n",
    "* <b>Municipal bonds</b>: are issued by government (Federal, state and local) to help fund their operations or capital projects. Some bonds are revenue bonds, whicha re guaranteed by the revenue from a specific project such as a bridge or highway, and general obligation bonds, which are guaranteed by the taxing authority of the government agentcy. The interest income is exempt from Deferal taxes and from state and local taxes in the issuing state. This allows government agencies to pay a lower rate than other borrowers. \n",
    "* <b>Corporate bonds</b>: are issud by corporations to raise capital for their oprations and capital projects. Depending upon de borrower, such bonds carry varying risks of default, i.e., failure of the issuer to repay the debt. The higher the risk of default, the higher the interest rate that must be paid in order to compensate lenders to take that risk. \n",
    "\n",
    "#### Special conditions\n",
    "\n",
    "* Sinking funds are ofetn set up in which the borrower is required to set aside cash in preparation for paying the bond. \n",
    "* Callable bonds can be redeemed at the issuer's discretion at specified points over the term of the debt. \n",
    "* Subordination of debt occurts when other more senior debt must be paid off first. More senior debt obviously carries less risk than less senior debt. \n",
    "* Secured bonds are debt which is secured by specific assets. Holders of secured bonds can seek to recover the asset if the issuer detaults. \n",
    "\n",
    "#### Mortgages\n",
    "\n",
    "A mortgage is a loan secured by some asset. The terms are usually the reverse of that of a bond. The holder receives a fixed amount of cash from the issuer and usually agrees to pay a series of equal payments at regular intervals over a specified term. Most homes are purchases with teh help of a mortgage. \n",
    "\n",
    "#### Annuities\n",
    "\n",
    "In an annuity a contract is entered into in which the holder or annuitant is paid money according to a set schedule over some period of time. There are several types of annuities [EXAMPLES]. Sometimes the payments are fixed and sometimes the payments are based on an index or market rate. \n",
    "\n",
    "### Valuation\n",
    "\n",
    "#### Perpetual annuity\n",
    "\n",
    "A parpetual annuity, sometimes called a consol, is one in which the holder gives the issuer an amount $S$ and the issuer agrees to pay the holder a coupon $c$ at regular intervals in perpetuity. \n",
    "\n",
    "$$S = \\sum_{i=1}^{\\infty} c\\left(1+\\frac{y}{k}\\right)^{-i} = \\frac{ck}{y} $$\n",
    "\n",
    "For example, the value of a consol with a semi-annual coupon of $\\$100$ where the annual rate is $5\\%$ is $\\$4000$. "
   ]
  },
  {
   "cell_type": "code",
   "execution_count": 68,
   "metadata": {},
   "outputs": [
    {
     "data": {
      "text/plain": [
       "4000.0"
      ]
     },
     "execution_count": 68,
     "metadata": {},
     "output_type": "execute_result"
    }
   ],
   "source": [
    "2*100/0.05"
   ]
  },
  {
   "cell_type": "markdown",
   "metadata": {},
   "source": [
    "#### Finite life streams\n",
    "\n",
    "<p>Consider a variation on the above in which the payment ends after $n$ periods, \n",
    "$$ P = \\sum_{i = 1}^{n} c\\left(1+\\frac{r}{k}\\right)^{-i}$$\n",
    "$$ P = \\sum_{i = 1}^{nk} c\\left(1+\\frac{r}{k}\\right)^{i} = \\frac{ck}{r}\\left(1-\\left(1+\\frac{r}{k}\\right)^{nk}\\right)$$</p>\n",
    "\n",
    "<p>The derivation of this formula is straightforward. We can consider the finite stream over n-years as represented by one perpetual annuity less another perpetual annuity that commences n-years hence. This difference produces the identical cash-flows, and, therefore, its PV is the same as that of the finite stream. The PV of the first peputual annuity is $c/r$ and the PV of the second perpetual annuity is \n",
    "$$\\frac{c}{r(1+r)^n}.$$</p>\n",
    "\n",
    "<p>For example, the value of an annuity with a semi-annual coupon of $\\$100$ where the annual rate is $5\\%$ and the term is 10 years. This is a finite stream with $r = 2.5\\%$ and $n=20$:\n",
    "</p>"
   ]
  },
  {
   "cell_type": "code",
   "execution_count": 69,
   "metadata": {},
   "outputs": [
    {
     "data": {
      "text/plain": [
       "1558.9162285646764"
      ]
     },
     "execution_count": 69,
     "metadata": {},
     "output_type": "execute_result"
    }
   ],
   "source": [
    "(100/0.025)*(1-1/((1+0.025)**20))"
   ]
  },
  {
   "cell_type": "markdown",
   "metadata": {},
   "source": [
    "Using the same example, the value of an annuity with a semi-annual coupon of $\\$100$ where the anual rate is $5\\%$ and the terms if 10 years is"
   ]
  },
  {
   "cell_type": "code",
   "execution_count": 70,
   "metadata": {},
   "outputs": [
    {
     "data": {
      "text/plain": [
       "1558.9162285646821"
      ]
     },
     "execution_count": 70,
     "metadata": {},
     "output_type": "execute_result"
    }
   ],
   "source": [
    "PV_multiple(np.insert(annuity(100, 2*10, 1/2)[0, :], 0, 0), \n",
    "            0.05, 2, 10)"
   ]
  },
  {
   "cell_type": "markdown",
   "metadata": {},
   "source": [
    "Or using closed form solution"
   ]
  },
  {
   "cell_type": "code",
   "execution_count": 71,
   "metadata": {},
   "outputs": [
    {
     "data": {
      "text/plain": [
       "1558.9162285646764"
      ]
     },
     "execution_count": 71,
     "metadata": {},
     "output_type": "execute_result"
    }
   ],
   "source": [
    "((2*100)/0.05)*(1-1/((1+0.05/2)**(2*10)))"
   ]
  },
  {
   "cell_type": "markdown",
   "metadata": {},
   "source": [
    "<p>The usual convention in most markets is to describe the term in years, the rate as a nominal annual rate, and the compounding frequency in frequency per year.</p>\n",
    "\n",
    "## Mortgages\n",
    "\n",
    "<p>Mortgages are loans secured by real property. In other words the bank or financial institution has a claim on the property in the event the mortgage is not repaid. Mortgage loans vary considerably in their terms.</p>\n",
    "\n",
    "<p>Fixed-rate, fixed-term loans are the most common. Some other forms will also be covered. </p>\n",
    "\n",
    "<p>Most purchases of real property are accomplished by placing a down payment to cover a portion of the price and then financing a significant portion of the residual through a mortgage.</p>\n",
    "\n",
    "<p>Read http://en.wikipedia.org/wiki/Mortgage for more information.</p>\n",
    "\n",
    "### Fixed-rate, fiexed-term mortgages\n",
    "\n",
    "<p>In a fixed-rate, fixed-term mortgage the borrower receives the initial loan balance $B$ from the lender and agrees to pay the lender a stream of fixed payments $p$ at regular intervals $k$ times per year until the end of the term of the loan. These payments are typically monthly and are computed based on a nominal annual rate $r$.</p>\n",
    "\n",
    "<p>The payments $p$ are computed so that the $PV$ of the payment stream at the mortgage's interest rate $r$ and payment frequency $k$ matches the initial loan balance $B$:</p>\n",
    "\n",
    "$$\\left\\{ p \\left| B = p\\sum_{i=1}^{nk} \\left(1+\\frac{r}{k}\\right)^{-i} \\right. \\right\\}$$\n",
    "\n",
    "<p>Here is the cash flow from the perspective of the borroewer, who recives the balance $B$ of the mortgage at the beginning and makes $k$ (almost always monthly) payments $p$ over the term of the loan:</p>\n",
    "\n",
    "<img src='Images/img7.png' width = 300 height = 200>\n",
    "\n",
    "#### Example: computing the monthly payment\n",
    "<p>Consider a monthly mortgage for $95000$ borrowed for 15 years at a rate of $4.5\\%$.</p>\n",
    "\n",
    "<p><b>Author's note</b>: </p>\n",
    "\n",
    "<p>Recall that to use Brent's method we need an initial guess. Our naive estimate will be simply the total of the loan divided by the number of payments (as if there was no interest):</p>"
   ]
  },
  {
   "cell_type": "code",
   "execution_count": 72,
   "metadata": {},
   "outputs": [
    {
     "data": {
      "text/plain": [
       "527.7777777777778"
      ]
     },
     "execution_count": 72,
     "metadata": {},
     "output_type": "execute_result"
    }
   ],
   "source": [
    "95000/(15*12)"
   ]
  },
  {
   "cell_type": "markdown",
   "metadata": {},
   "source": [
    "Let's create a scalar function to model this problem:"
   ]
  },
  {
   "cell_type": "code",
   "execution_count": 73,
   "metadata": {},
   "outputs": [],
   "source": [
    "def fxPayment(p):                   \n",
    "    cashflow = np.array([time_value(p, \n",
    "                                    effective_interest(0.045, 1/12),\n",
    "                                    -15+(i)/12)\n",
    "                         for i in range(12*15)])\n",
    "    return 95000 - np.sum(cashflow)"
   ]
  },
  {
   "cell_type": "code",
   "execution_count": 74,
   "metadata": {},
   "outputs": [
    {
     "data": {
      "text/plain": [
       "0.04593982504058958"
      ]
     },
     "execution_count": 74,
     "metadata": {},
     "output_type": "execute_result"
    }
   ],
   "source": [
    "effective_interest(0.045, 1/12)"
   ]
  },
  {
   "cell_type": "code",
   "execution_count": 75,
   "metadata": {
    "scrolled": true
   },
   "outputs": [
    {
     "data": {
      "text/plain": [
       "81927.98989712624"
      ]
     },
     "execution_count": 75,
     "metadata": {},
     "output_type": "execute_result"
    }
   ],
   "source": [
    "fxPayment(100)"
   ]
  },
  {
   "cell_type": "markdown",
   "metadata": {},
   "source": [
    "Let's plot the graph in a vicinity of this value. "
   ]
  },
  {
   "cell_type": "code",
   "execution_count": 76,
   "metadata": {},
   "outputs": [
    {
     "data": {
      "image/png": "[encoded data removed]",
      "text/plain": [
       "<Figure size 432x288 with 1 Axes>"
      ]
     },
     "metadata": {},
     "output_type": "display_data"
    }
   ],
   "source": [
    "# Data for plotting\n",
    "t = np.arange(0, 1000, 0.1)\n",
    "s = np.array([fxPayment(p) for p in t])\n",
    "intercept = np.zeros(len(t))\n",
    "\n",
    "fig, ax = plt.subplots(figsize = (6,4))\n",
    "ax.plot(t, s)\n",
    "ax.plot(t,intercept, '--')\n",
    "\n",
    "ax.set(xlabel='Monthly payments ($)', ylabel='Balance ($)',\n",
    "       title='15 year Mortgage')\n",
    "ax.grid()\n",
    "\n",
    "plt.show()"
   ]
  },
  {
   "cell_type": "markdown",
   "metadata": {},
   "source": [
    "We now solve for $p$"
   ]
  },
  {
   "cell_type": "code",
   "execution_count": 77,
   "metadata": {},
   "outputs": [
    {
     "data": {
      "text/plain": [
       "726.7436243727747"
      ]
     },
     "execution_count": 77,
     "metadata": {},
     "output_type": "execute_result"
    }
   ],
   "source": [
    "optimize.brentq(fxPayment, 500, 800)"
   ]
  },
  {
   "cell_type": "markdown",
   "metadata": {},
   "source": [
    "<p>Notice that this is indeed a linear problem in $p$, so we don't need a numerical method here. </p>\n",
    "\n",
    "### Example: computing an affordable mortgage amount\n",
    "\n",
    "<p>A home buyer estimates that she can afford a mortgage of $\\$575$ per month. If current 30-year mortgage rates are $3.75\\%$, then what is the maximum mortgage that she can afford?</p>"
   ]
  },
  {
   "cell_type": "code",
   "execution_count": 78,
   "metadata": {
    "scrolled": true
   },
   "outputs": [
    {
     "data": {
      "text/plain": [
       "124159.06751229364"
      ]
     },
     "execution_count": 78,
     "metadata": {},
     "output_type": "execute_result"
    }
   ],
   "source": [
    "PV_multiple(np.insert(annuity(575,30*12,1/12)[0, :],\n",
    "                      0,0),\n",
    "            0.0375, 12, 30)"
   ]
  },
  {
   "cell_type": "markdown",
   "metadata": {},
   "source": [
    "### Amortization of a fixed-rate, fixed-term mortgage\n",
    "\n",
    "At each payment date a portion of the payment goes to paying the interest accrued since the last payment. The remainder is used to pay down the remaining balance owed on the loan. Amortization here refers to the calculation of interest and principal paid at each payment of a loan. \n",
    "\n",
    "One approach is to compute it recursively. Let \n",
    "<ul>\n",
    "    <li> $B_i$ denote the balance at the end of the i-th payment period.</li>\n",
    "    <li> $I_i$ denote the interest accrued during the i-th payment period. </li>\n",
    "    <li> $P_i$ denote the principal paid during the i-th payment period.</li> \n",
    "</ul>\n",
    "\n",
    "The recursion is initialized with $B_0 = B$, then for $i$ from $1$ to $nk$, \n",
    "<ul>\n",
    "    <li> the interest accrued is the amount owed at the end of the prior period times the periodic rate:\n",
    "        $$I_i = \\frac{rB_{i-1}}{k};$$\n",
    "    </li>\n",
    "    <li>the principal paid is that portion of the periodic payment that is not required to coved the accrued interest:\n",
    "        $$P_i = p-I_i;$$\n",
    "    </li>\n",
    "    <li> the new balance is the prior balance less the principal paid:\n",
    "        $$B_i = B_{i-1} - P_i;$$\n",
    "    </li>\n",
    "</ul>\n",
    "        \n",
    "#### Example: recursive amortization calculation\n",
    "\n",
    "The amoortization calculation is illustrated by an example. For simplicity, we will assume that the mortgage payments occur semi-annually:"
   ]
  },
  {
   "cell_type": "code",
   "execution_count": 79,
   "metadata": {},
   "outputs": [],
   "source": [
    "nLoanAmount = 100000\n",
    "nAnnualRate = 0.05\n",
    "iTerm = 15\n",
    "iFrequency = 2"
   ]
  },
  {
   "cell_type": "markdown",
   "metadata": {},
   "source": [
    "The semi-annual mortgage payment is obtained through Brent's method. We'll create a scalar function"
   ]
  },
  {
   "cell_type": "code",
   "execution_count": 80,
   "metadata": {},
   "outputs": [],
   "source": [
    "def amortize(balance, payment, annual_rate, term, frequency):\n",
    "    schedule = {0: [balance,0,0]}\n",
    "    for i in range(1,term*frequency + 1):\n",
    "        interest = annual_rate*schedule[i-1][0]/frequency\n",
    "        principal = payment - interest\n",
    "        schedule[i] = [schedule[i-1][0]- principal, \n",
    "                       interest,\n",
    "                       principal]\n",
    "    df = pd.DataFrame.from_dict(schedule, \n",
    "                                columns = ['Remaining balance', \n",
    "                                           'Interest paid', \n",
    "                                           'Principal paid'],\n",
    "                                orient = 'index'\n",
    "                               )\n",
    "    return df"
   ]
  },
  {
   "cell_type": "code",
   "execution_count": 81,
   "metadata": {},
   "outputs": [],
   "source": [
    "import pandas as pd"
   ]
  },
  {
   "cell_type": "code",
   "execution_count": 82,
   "metadata": {},
   "outputs": [
    {
     "data": {
      "text/html": [
       "<div>\n",
       "<style scoped>\n",
       "    .dataframe tbody tr th:only-of-type {\n",
       "        vertical-align: middle;\n",
       "    }\n",
       "\n",
       "    .dataframe tbody tr th {\n",
       "        vertical-align: top;\n",
       "    }\n",
       "\n",
       "    .dataframe thead th {\n",
       "        text-align: right;\n",
       "    }\n",
       "</style>\n",
       "<table border=\"1\" class=\"dataframe\">\n",
       "  <thead>\n",
       "    <tr style=\"text-align: right;\">\n",
       "      <th></th>\n",
       "      <th>Remaining balance</th>\n",
       "      <th>Interest paid</th>\n",
       "      <th>Principal paid</th>\n",
       "    </tr>\n",
       "  </thead>\n",
       "  <tbody>\n",
       "    <tr>\n",
       "      <th>0</th>\n",
       "      <td>100000.000000</td>\n",
       "      <td>0.000000</td>\n",
       "      <td>0.000000</td>\n",
       "    </tr>\n",
       "    <tr>\n",
       "      <th>1</th>\n",
       "      <td>97800.000000</td>\n",
       "      <td>2500.000000</td>\n",
       "      <td>2200.000000</td>\n",
       "    </tr>\n",
       "    <tr>\n",
       "      <th>2</th>\n",
       "      <td>95545.000000</td>\n",
       "      <td>2445.000000</td>\n",
       "      <td>2255.000000</td>\n",
       "    </tr>\n",
       "    <tr>\n",
       "      <th>3</th>\n",
       "      <td>93233.625000</td>\n",
       "      <td>2388.625000</td>\n",
       "      <td>2311.375000</td>\n",
       "    </tr>\n",
       "    <tr>\n",
       "      <th>4</th>\n",
       "      <td>90864.465625</td>\n",
       "      <td>2330.840625</td>\n",
       "      <td>2369.159375</td>\n",
       "    </tr>\n",
       "    <tr>\n",
       "      <th>5</th>\n",
       "      <td>88436.077266</td>\n",
       "      <td>2271.611641</td>\n",
       "      <td>2428.388359</td>\n",
       "    </tr>\n",
       "    <tr>\n",
       "      <th>6</th>\n",
       "      <td>85946.979197</td>\n",
       "      <td>2210.901932</td>\n",
       "      <td>2489.098068</td>\n",
       "    </tr>\n",
       "    <tr>\n",
       "      <th>7</th>\n",
       "      <td>83395.653677</td>\n",
       "      <td>2148.674480</td>\n",
       "      <td>2551.325520</td>\n",
       "    </tr>\n",
       "    <tr>\n",
       "      <th>8</th>\n",
       "      <td>80780.545019</td>\n",
       "      <td>2084.891342</td>\n",
       "      <td>2615.108658</td>\n",
       "    </tr>\n",
       "    <tr>\n",
       "      <th>9</th>\n",
       "      <td>78100.058645</td>\n",
       "      <td>2019.513625</td>\n",
       "      <td>2680.486375</td>\n",
       "    </tr>\n",
       "    <tr>\n",
       "      <th>10</th>\n",
       "      <td>75352.560111</td>\n",
       "      <td>1952.501466</td>\n",
       "      <td>2747.498534</td>\n",
       "    </tr>\n",
       "    <tr>\n",
       "      <th>11</th>\n",
       "      <td>72536.374113</td>\n",
       "      <td>1883.814003</td>\n",
       "      <td>2816.185997</td>\n",
       "    </tr>\n",
       "    <tr>\n",
       "      <th>12</th>\n",
       "      <td>69649.783466</td>\n",
       "      <td>1813.409353</td>\n",
       "      <td>2886.590647</td>\n",
       "    </tr>\n",
       "    <tr>\n",
       "      <th>13</th>\n",
       "      <td>66691.028053</td>\n",
       "      <td>1741.244587</td>\n",
       "      <td>2958.755413</td>\n",
       "    </tr>\n",
       "    <tr>\n",
       "      <th>14</th>\n",
       "      <td>63658.303754</td>\n",
       "      <td>1667.275701</td>\n",
       "      <td>3032.724299</td>\n",
       "    </tr>\n",
       "    <tr>\n",
       "      <th>15</th>\n",
       "      <td>60549.761348</td>\n",
       "      <td>1591.457594</td>\n",
       "      <td>3108.542406</td>\n",
       "    </tr>\n",
       "    <tr>\n",
       "      <th>16</th>\n",
       "      <td>57363.505382</td>\n",
       "      <td>1513.744034</td>\n",
       "      <td>3186.255966</td>\n",
       "    </tr>\n",
       "    <tr>\n",
       "      <th>17</th>\n",
       "      <td>54097.593016</td>\n",
       "      <td>1434.087635</td>\n",
       "      <td>3265.912365</td>\n",
       "    </tr>\n",
       "    <tr>\n",
       "      <th>18</th>\n",
       "      <td>50750.032842</td>\n",
       "      <td>1352.439825</td>\n",
       "      <td>3347.560175</td>\n",
       "    </tr>\n",
       "    <tr>\n",
       "      <th>19</th>\n",
       "      <td>47318.783663</td>\n",
       "      <td>1268.750821</td>\n",
       "      <td>3431.249179</td>\n",
       "    </tr>\n",
       "    <tr>\n",
       "      <th>20</th>\n",
       "      <td>43801.753254</td>\n",
       "      <td>1182.969592</td>\n",
       "      <td>3517.030408</td>\n",
       "    </tr>\n",
       "    <tr>\n",
       "      <th>21</th>\n",
       "      <td>40196.797086</td>\n",
       "      <td>1095.043831</td>\n",
       "      <td>3604.956169</td>\n",
       "    </tr>\n",
       "    <tr>\n",
       "      <th>22</th>\n",
       "      <td>36501.717013</td>\n",
       "      <td>1004.919927</td>\n",
       "      <td>3695.080073</td>\n",
       "    </tr>\n",
       "    <tr>\n",
       "      <th>23</th>\n",
       "      <td>32714.259938</td>\n",
       "      <td>912.542925</td>\n",
       "      <td>3787.457075</td>\n",
       "    </tr>\n",
       "    <tr>\n",
       "      <th>24</th>\n",
       "      <td>28832.116437</td>\n",
       "      <td>817.856498</td>\n",
       "      <td>3882.143502</td>\n",
       "    </tr>\n",
       "    <tr>\n",
       "      <th>25</th>\n",
       "      <td>24852.919348</td>\n",
       "      <td>720.802911</td>\n",
       "      <td>3979.197089</td>\n",
       "    </tr>\n",
       "    <tr>\n",
       "      <th>26</th>\n",
       "      <td>20774.242331</td>\n",
       "      <td>621.322984</td>\n",
       "      <td>4078.677016</td>\n",
       "    </tr>\n",
       "    <tr>\n",
       "      <th>27</th>\n",
       "      <td>16593.598390</td>\n",
       "      <td>519.356058</td>\n",
       "      <td>4180.643942</td>\n",
       "    </tr>\n",
       "    <tr>\n",
       "      <th>28</th>\n",
       "      <td>12308.438349</td>\n",
       "      <td>414.839960</td>\n",
       "      <td>4285.160040</td>\n",
       "    </tr>\n",
       "    <tr>\n",
       "      <th>29</th>\n",
       "      <td>7916.149308</td>\n",
       "      <td>307.710959</td>\n",
       "      <td>4392.289041</td>\n",
       "    </tr>\n",
       "    <tr>\n",
       "      <th>30</th>\n",
       "      <td>3414.053041</td>\n",
       "      <td>197.903733</td>\n",
       "      <td>4502.096267</td>\n",
       "    </tr>\n",
       "  </tbody>\n",
       "</table>\n",
       "</div>"
      ],
      "text/plain": [
       "    Remaining balance  Interest paid  Principal paid\n",
       "0       100000.000000       0.000000        0.000000\n",
       "1        97800.000000    2500.000000     2200.000000\n",
       "2        95545.000000    2445.000000     2255.000000\n",
       "3        93233.625000    2388.625000     2311.375000\n",
       "4        90864.465625    2330.840625     2369.159375\n",
       "5        88436.077266    2271.611641     2428.388359\n",
       "6        85946.979197    2210.901932     2489.098068\n",
       "7        83395.653677    2148.674480     2551.325520\n",
       "8        80780.545019    2084.891342     2615.108658\n",
       "9        78100.058645    2019.513625     2680.486375\n",
       "10       75352.560111    1952.501466     2747.498534\n",
       "11       72536.374113    1883.814003     2816.185997\n",
       "12       69649.783466    1813.409353     2886.590647\n",
       "13       66691.028053    1741.244587     2958.755413\n",
       "14       63658.303754    1667.275701     3032.724299\n",
       "15       60549.761348    1591.457594     3108.542406\n",
       "16       57363.505382    1513.744034     3186.255966\n",
       "17       54097.593016    1434.087635     3265.912365\n",
       "18       50750.032842    1352.439825     3347.560175\n",
       "19       47318.783663    1268.750821     3431.249179\n",
       "20       43801.753254    1182.969592     3517.030408\n",
       "21       40196.797086    1095.043831     3604.956169\n",
       "22       36501.717013    1004.919927     3695.080073\n",
       "23       32714.259938     912.542925     3787.457075\n",
       "24       28832.116437     817.856498     3882.143502\n",
       "25       24852.919348     720.802911     3979.197089\n",
       "26       20774.242331     621.322984     4078.677016\n",
       "27       16593.598390     519.356058     4180.643942\n",
       "28       12308.438349     414.839960     4285.160040\n",
       "29        7916.149308     307.710959     4392.289041\n",
       "30        3414.053041     197.903733     4502.096267"
      ]
     },
     "execution_count": 82,
     "metadata": {},
     "output_type": "execute_result"
    }
   ],
   "source": [
    "amortize(nLoanAmount, 4700, nAnnualRate, iTerm, iFrequency)"
   ]
  },
  {
   "cell_type": "markdown",
   "metadata": {},
   "source": [
    "To find the ideal payment for this loan, we need to find the value of $p$ that makes the final balance equal to $0$. One can easily show by induction that balances are computed according to the formula:\n",
    "\n",
    "$$B_{i+1} = B_0\\left(1+\\frac{r}{k}\\right)^{i} - \\frac{pk}{r}\\left(\\left(1+\\frac{r}{k}\\right)^{i}-1\\right)$$\n",
    "\n",
    "Hence, we can set a scalar function that computes the final balance in two ways. The first utilizes the amortization schedule above. The second, a closed formula. "
   ]
  },
  {
   "cell_type": "code",
   "execution_count": 83,
   "metadata": {},
   "outputs": [],
   "source": [
    "def fxMortgage(payment):\n",
    "    schedule = amortize(nLoanAmount, payment, nAnnualRate, iTerm, iFrequency)\n",
    "    return schedule['Remaining balance'].iloc[-1]"
   ]
  },
  {
   "cell_type": "code",
   "execution_count": 84,
   "metadata": {},
   "outputs": [],
   "source": [
    "def fxFinalBalance(payment):\n",
    "    interestFactor = 1+(nAnnualRate/iFrequency)\n",
    "    interestAccrued = nLoanAmount*(interestFactor**(iTerm*iFrequency))\n",
    "    interestPaid = (payment*iFrequency/nAnnualRate)*(interestFactor**(iTerm*iFrequency)-1)\n",
    "    return interestAccrued - interestPaid"
   ]
  },
  {
   "cell_type": "code",
   "execution_count": 85,
   "metadata": {},
   "outputs": [
    {
     "name": "stdout",
     "output_type": "stream",
     "text": [
      "CPU times: user 3 µs, sys: 0 ns, total: 3 µs\n",
      "Wall time: 7.15 µs\n"
     ]
    },
    {
     "data": {
      "text/plain": [
       "3414.053040802314"
      ]
     },
     "execution_count": 85,
     "metadata": {},
     "output_type": "execute_result"
    }
   ],
   "source": [
    "%time\n",
    "fxMortgage(4700)"
   ]
  },
  {
   "cell_type": "code",
   "execution_count": 86,
   "metadata": {},
   "outputs": [
    {
     "name": "stdout",
     "output_type": "stream",
     "text": [
      "CPU times: user 7 µs, sys: 4 µs, total: 11 µs\n",
      "Wall time: 51 µs\n"
     ]
    },
    {
     "data": {
      "text/plain": [
       "3414.053040802857"
      ]
     },
     "execution_count": 86,
     "metadata": {},
     "output_type": "execute_result"
    }
   ],
   "source": [
    "%time\n",
    "fxFinalBalance(4700)"
   ]
  },
  {
   "cell_type": "markdown",
   "metadata": {},
   "source": [
    "Let's plot this function to obtain an estimate by visual inspection. "
   ]
  },
  {
   "cell_type": "code",
   "execution_count": 87,
   "metadata": {},
   "outputs": [
    {
     "data": {
      "image/png": "[encoded data removed]",
      "text/plain": [
       "<Figure size 432x288 with 1 Axes>"
      ]
     },
     "metadata": {},
     "output_type": "display_data"
    }
   ],
   "source": [
    "# Data for plotting\n",
    "t = np.arange(4000, 5000, 0.1)\n",
    "s = np.array([fxMortgage(p) for p in t])\n",
    "intercept = np.zeros(len(t))\n",
    "\n",
    "fig, ax = plt.subplots(figsize = (6,4))\n",
    "ax.plot(t, s)\n",
    "ax.plot(t,intercept, '--')\n",
    "\n",
    "ax.set(xlabel='Monthly payments ($)', ylabel='Balance ($)',\n",
    "       title='15 year Mortgage')\n",
    "ax.grid()\n",
    "\n",
    "plt.show()"
   ]
  },
  {
   "cell_type": "markdown",
   "metadata": {},
   "source": [
    "As expected, the end balance is linear with respect to monthly payments. The payment that achieves a zero balance after $nk$ cycles is\n",
    "$$ p = \\frac{rB_0\\left(1+ \\frac{r}{k}\\right)^{nk}}{k \\left( \\left(1+\\frac{r}{k}\\right)^{nk} -1 \\right)}$$"
   ]
  },
  {
   "cell_type": "code",
   "execution_count": 88,
   "metadata": {},
   "outputs": [],
   "source": [
    "interestFactor = 1+(nAnnualRate/iFrequency)\n",
    "interestAccrued = nLoanAmount*(interestFactor**(iTerm*iFrequency))\n",
    "deferenceFactor = (iFrequency/nAnnualRate)*(interestFactor**(iTerm*iFrequency)-1)"
   ]
  },
  {
   "cell_type": "code",
   "execution_count": 89,
   "metadata": {},
   "outputs": [
    {
     "data": {
      "text/plain": [
       "4777.764073617658"
      ]
     },
     "execution_count": 89,
     "metadata": {},
     "output_type": "execute_result"
    }
   ],
   "source": [
    "payment = interestAccrued/deferenceFactor\n",
    "payment"
   ]
  },
  {
   "cell_type": "markdown",
   "metadata": {},
   "source": [
    "Of course we can use Brent's method as well, but that's better suited to problems we can't solve analytically. \n",
    "\n",
    "Amortization is used to determine tax deductibility (interest is deductible, but principal is not) and the current balance in the event the buyer wishes to pre-pay. If we plot the interest and principal paid at each payment, then we see that as time goes by the interest owed each period decreases as more and more of the balance of the mortgage is paid. Below we print the amortization schedule, cleaning up values that are \"near\" zero that may result from inconsequential rounding. "
   ]
  },
  {
   "cell_type": "code",
   "execution_count": 90,
   "metadata": {},
   "outputs": [
    {
     "data": {
      "text/html": [
       "<div>\n",
       "<style scoped>\n",
       "    .dataframe tbody tr th:only-of-type {\n",
       "        vertical-align: middle;\n",
       "    }\n",
       "\n",
       "    .dataframe tbody tr th {\n",
       "        vertical-align: top;\n",
       "    }\n",
       "\n",
       "    .dataframe thead th {\n",
       "        text-align: right;\n",
       "    }\n",
       "</style>\n",
       "<table border=\"1\" class=\"dataframe\">\n",
       "  <thead>\n",
       "    <tr style=\"text-align: right;\">\n",
       "      <th></th>\n",
       "      <th>Remaining balance</th>\n",
       "      <th>Interest paid</th>\n",
       "      <th>Principal paid</th>\n",
       "    </tr>\n",
       "  </thead>\n",
       "  <tbody>\n",
       "    <tr>\n",
       "      <th>0</th>\n",
       "      <td>100000.0000</td>\n",
       "      <td>0.0000</td>\n",
       "      <td>0.0000</td>\n",
       "    </tr>\n",
       "    <tr>\n",
       "      <th>1</th>\n",
       "      <td>97722.2359</td>\n",
       "      <td>2500.0000</td>\n",
       "      <td>2277.7641</td>\n",
       "    </tr>\n",
       "    <tr>\n",
       "      <th>2</th>\n",
       "      <td>95387.5278</td>\n",
       "      <td>2443.0559</td>\n",
       "      <td>2334.7082</td>\n",
       "    </tr>\n",
       "    <tr>\n",
       "      <th>3</th>\n",
       "      <td>92994.4519</td>\n",
       "      <td>2384.6882</td>\n",
       "      <td>2393.0759</td>\n",
       "    </tr>\n",
       "    <tr>\n",
       "      <th>4</th>\n",
       "      <td>90541.5491</td>\n",
       "      <td>2324.8613</td>\n",
       "      <td>2452.9028</td>\n",
       "    </tr>\n",
       "    <tr>\n",
       "      <th>5</th>\n",
       "      <td>88027.3237</td>\n",
       "      <td>2263.5387</td>\n",
       "      <td>2514.2253</td>\n",
       "    </tr>\n",
       "    <tr>\n",
       "      <th>6</th>\n",
       "      <td>85450.2428</td>\n",
       "      <td>2200.6831</td>\n",
       "      <td>2577.0810</td>\n",
       "    </tr>\n",
       "    <tr>\n",
       "      <th>7</th>\n",
       "      <td>82808.7348</td>\n",
       "      <td>2136.2561</td>\n",
       "      <td>2641.5080</td>\n",
       "    </tr>\n",
       "    <tr>\n",
       "      <th>8</th>\n",
       "      <td>80101.1891</td>\n",
       "      <td>2070.2184</td>\n",
       "      <td>2707.5457</td>\n",
       "    </tr>\n",
       "    <tr>\n",
       "      <th>9</th>\n",
       "      <td>77325.9547</td>\n",
       "      <td>2002.5297</td>\n",
       "      <td>2775.2343</td>\n",
       "    </tr>\n",
       "    <tr>\n",
       "      <th>10</th>\n",
       "      <td>74481.3395</td>\n",
       "      <td>1933.1489</td>\n",
       "      <td>2844.6152</td>\n",
       "    </tr>\n",
       "    <tr>\n",
       "      <th>11</th>\n",
       "      <td>71565.6089</td>\n",
       "      <td>1862.0335</td>\n",
       "      <td>2915.7306</td>\n",
       "    </tr>\n",
       "    <tr>\n",
       "      <th>12</th>\n",
       "      <td>68576.9851</td>\n",
       "      <td>1789.1402</td>\n",
       "      <td>2988.6239</td>\n",
       "    </tr>\n",
       "    <tr>\n",
       "      <th>13</th>\n",
       "      <td>65513.6456</td>\n",
       "      <td>1714.4246</td>\n",
       "      <td>3063.3394</td>\n",
       "    </tr>\n",
       "    <tr>\n",
       "      <th>14</th>\n",
       "      <td>62373.7227</td>\n",
       "      <td>1637.8411</td>\n",
       "      <td>3139.9229</td>\n",
       "    </tr>\n",
       "    <tr>\n",
       "      <th>15</th>\n",
       "      <td>59155.3017</td>\n",
       "      <td>1559.3431</td>\n",
       "      <td>3218.4210</td>\n",
       "    </tr>\n",
       "    <tr>\n",
       "      <th>16</th>\n",
       "      <td>55856.4202</td>\n",
       "      <td>1478.8825</td>\n",
       "      <td>3298.8815</td>\n",
       "    </tr>\n",
       "    <tr>\n",
       "      <th>17</th>\n",
       "      <td>52475.0666</td>\n",
       "      <td>1396.4105</td>\n",
       "      <td>3381.3536</td>\n",
       "    </tr>\n",
       "    <tr>\n",
       "      <th>18</th>\n",
       "      <td>49009.1792</td>\n",
       "      <td>1311.8767</td>\n",
       "      <td>3465.8874</td>\n",
       "    </tr>\n",
       "    <tr>\n",
       "      <th>19</th>\n",
       "      <td>45456.6446</td>\n",
       "      <td>1225.2295</td>\n",
       "      <td>3552.5346</td>\n",
       "    </tr>\n",
       "    <tr>\n",
       "      <th>20</th>\n",
       "      <td>41815.2966</td>\n",
       "      <td>1136.4161</td>\n",
       "      <td>3641.3480</td>\n",
       "    </tr>\n",
       "    <tr>\n",
       "      <th>21</th>\n",
       "      <td>38082.9150</td>\n",
       "      <td>1045.3824</td>\n",
       "      <td>3732.3817</td>\n",
       "    </tr>\n",
       "    <tr>\n",
       "      <th>22</th>\n",
       "      <td>34257.2238</td>\n",
       "      <td>952.0729</td>\n",
       "      <td>3825.6912</td>\n",
       "    </tr>\n",
       "    <tr>\n",
       "      <th>23</th>\n",
       "      <td>30335.8903</td>\n",
       "      <td>856.4306</td>\n",
       "      <td>3921.3335</td>\n",
       "    </tr>\n",
       "    <tr>\n",
       "      <th>24</th>\n",
       "      <td>26316.5235</td>\n",
       "      <td>758.3973</td>\n",
       "      <td>4019.3668</td>\n",
       "    </tr>\n",
       "    <tr>\n",
       "      <th>25</th>\n",
       "      <td>22196.6725</td>\n",
       "      <td>657.9131</td>\n",
       "      <td>4119.8510</td>\n",
       "    </tr>\n",
       "    <tr>\n",
       "      <th>26</th>\n",
       "      <td>17973.8252</td>\n",
       "      <td>554.9168</td>\n",
       "      <td>4222.8473</td>\n",
       "    </tr>\n",
       "    <tr>\n",
       "      <th>27</th>\n",
       "      <td>13645.4068</td>\n",
       "      <td>449.3456</td>\n",
       "      <td>4328.4184</td>\n",
       "    </tr>\n",
       "    <tr>\n",
       "      <th>28</th>\n",
       "      <td>9208.7779</td>\n",
       "      <td>341.1352</td>\n",
       "      <td>4436.6289</td>\n",
       "    </tr>\n",
       "    <tr>\n",
       "      <th>29</th>\n",
       "      <td>4661.2332</td>\n",
       "      <td>230.2194</td>\n",
       "      <td>4547.5446</td>\n",
       "    </tr>\n",
       "    <tr>\n",
       "      <th>30</th>\n",
       "      <td>-0.0000</td>\n",
       "      <td>116.5308</td>\n",
       "      <td>4661.2332</td>\n",
       "    </tr>\n",
       "  </tbody>\n",
       "</table>\n",
       "</div>"
      ],
      "text/plain": [
       "    Remaining balance  Interest paid  Principal paid\n",
       "0         100000.0000         0.0000          0.0000\n",
       "1          97722.2359      2500.0000       2277.7641\n",
       "2          95387.5278      2443.0559       2334.7082\n",
       "3          92994.4519      2384.6882       2393.0759\n",
       "4          90541.5491      2324.8613       2452.9028\n",
       "5          88027.3237      2263.5387       2514.2253\n",
       "6          85450.2428      2200.6831       2577.0810\n",
       "7          82808.7348      2136.2561       2641.5080\n",
       "8          80101.1891      2070.2184       2707.5457\n",
       "9          77325.9547      2002.5297       2775.2343\n",
       "10         74481.3395      1933.1489       2844.6152\n",
       "11         71565.6089      1862.0335       2915.7306\n",
       "12         68576.9851      1789.1402       2988.6239\n",
       "13         65513.6456      1714.4246       3063.3394\n",
       "14         62373.7227      1637.8411       3139.9229\n",
       "15         59155.3017      1559.3431       3218.4210\n",
       "16         55856.4202      1478.8825       3298.8815\n",
       "17         52475.0666      1396.4105       3381.3536\n",
       "18         49009.1792      1311.8767       3465.8874\n",
       "19         45456.6446      1225.2295       3552.5346\n",
       "20         41815.2966      1136.4161       3641.3480\n",
       "21         38082.9150      1045.3824       3732.3817\n",
       "22         34257.2238       952.0729       3825.6912\n",
       "23         30335.8903       856.4306       3921.3335\n",
       "24         26316.5235       758.3973       4019.3668\n",
       "25         22196.6725       657.9131       4119.8510\n",
       "26         17973.8252       554.9168       4222.8473\n",
       "27         13645.4068       449.3456       4328.4184\n",
       "28          9208.7779       341.1352       4436.6289\n",
       "29          4661.2332       230.2194       4547.5446\n",
       "30            -0.0000       116.5308       4661.2332"
      ]
     },
     "execution_count": 90,
     "metadata": {},
     "output_type": "execute_result"
    }
   ],
   "source": [
    "schedule = amortize(nLoanAmount, payment, nAnnualRate, iTerm, iFrequency).round(4)\n",
    "schedule"
   ]
  },
  {
   "cell_type": "code",
   "execution_count": 91,
   "metadata": {},
   "outputs": [
    {
     "data": {
      "image/png": "[encoded data removed]",
      "text/plain": [
       "<Figure size 1152x648 with 2 Axes>"
      ]
     },
     "metadata": {},
     "output_type": "display_data"
    }
   ],
   "source": [
    "fig, axs = plt.subplots(nrows = 1,\n",
    "                        ncols = 2,\n",
    "                        figsize = (16,9))\n",
    "# Amortization graph\n",
    "axs[0].plot(schedule['Interest paid'].iloc[1:], 'o', label = 'Interest')\n",
    "axs[0].plot(schedule['Principal paid'].iloc[1:], 'o', label = 'Principal')\n",
    "axs[0].set_title('Mortgage Amortization')\n",
    "axs[0].legend()\n",
    "#Remaining balance graph\n",
    "axs[1].plot(schedule['Remaining balance'], 'o', label = 'Balance')\n",
    "axs[1].set_title('Remaining balance')\n",
    "axs[1].legend() \n",
    "\n",
    "plt.show()"
   ]
  },
  {
   "cell_type": "markdown",
   "metadata": {},
   "source": [
    "The total interest paid on the loan is "
   ]
  },
  {
   "cell_type": "code",
   "execution_count": 92,
   "metadata": {},
   "outputs": [
    {
     "data": {
      "text/plain": [
       "43332.92219999999"
      ]
     },
     "execution_count": 92,
     "metadata": {},
     "output_type": "execute_result"
    }
   ],
   "source": [
    "schedule['Interest paid'].sum()"
   ]
  },
  {
   "cell_type": "markdown",
   "metadata": {},
   "source": [
    "### Interest-only mortgage\n",
    "\n",
    "In an interest-only mortgage, the borrower pays only the interest due on the loan each month. At the end of the term, the full amount of the principal must be repaid as a balloon payment. Generally, the borrower operates under the assumption that the value of the property will appreciate over the term and, hence, he or she will be able to sell the property for a profit or use the higher value to renegotiatie a new mortgage without difficulty. \n",
    "\n",
    "The monthly payment is the monthly interest on the principal:\n",
    "$$ p = \\frac{Br}{k}$$\n",
    "The final payment is a ballon that is the sum of the month's interest and the principal. The cash-flow diagram from the borrower's perspective is\n",
    "\n",
    "<img src=\"Images/img7.png\" width = 300, height = 200>"
   ]
  },
  {
   "cell_type": "markdown",
   "metadata": {},
   "source": [
    "### Commercial Mortgages\n",
    "\n",
    "In some instances, especially when commercial property is involved, the mortgage payment is computed based on a terms $n_{\\textrm{amort}}$ but the actual term of the loan is $n$, where $n_{\\textrm{amort}} > n$. At the end of $n$ years the final payment is a balloon that consists of the month's payment plus the unpaid portion of the principal. These mortgages are attractive to the bank because it can offer a competitive fixed-rate without committing itself to that rate over a long period of time. The borrower normally expects to remortgage the property at time $n$ at the mortgage rate available in the market at that time. \n",
    "\n",
    "The required payment is\n",
    "\n",
    "[FINISH THIS]\n",
    "\n",
    "## Bonds\n",
    "\n",
    "<p>A <a href ='https://en.wikipedia.org/wiki/Bond_(finance)' target ='_blank'>bond </a> is a debt secutiry, a contract to repay borrowed money plus interest. The borrower is called the <i> issuer</i> of the bond. The lender is called the <i>holder</i> of the bond. Short-term debt instruments such as certificates of deposit (CD) are not considered bonds. \n",
    "\n",
    "Bonds are used commercially to secure external capital without diluting the ownership of the business and are usually issued for purposes of long-term investment. \n",
    "\n",
    "Governments and governmental agencies also issue bonds, which may be used to fund either long-term projects such as schools or bridges, or to fund shortfalls in current expenditures. \n",
    "\n",
    "Bonds typically have a defined term, or maturity, and a fixed schedule of interest payments, called the rm<i>coupons</i>. At the end of the term the face amount of the bond is repaid. Am exeption is a consol bond, which is an agreement to pay the coupon in perpetuity.</p>\n",
    "\n",
    "### Definitions\n",
    "<ul>\n",
    "    <li> <b> Price</b>: the amount the bond holder (the lender) agrees to pay the issuer (the borrower)_ to own the bon at origination, or the price a pruchaser has to pay in the secondary market to own the bond.</li>\n",
    "    <li> <b> Par or face value</b>: the amount the coupon payment is based and, usually, the amount the bond issuer agrees to pay the bond holder at redemption. </li>\n",
    "    <li> <b> Term</b>: the time over which the obligations represented by the bond exist. </li>\n",
    "    <li> <b> Rate of interest</b>: the interest, usually expressed as an annual rate, paid on the face amount of the bond.</li>\n",
    "    <li> <b> Payment frequency </b>: the number of times each year the bond pays.</li>\n",
    "    <li> <b> Coupon</b>: the periodic payment of the bon; usually an interest payment based on the face amount, interest rate, and payment frequency.</li>\n",
    "    <li> <b> Yield</b>: the IRR of the bond at the market price. Yield, rather than price, is the primary measure to value and compare bonds in the market.</li>\n",
    "    <li> <b> Premium or Discount </b> A bond that is sold at origination at a price higher than its par value is said to sell at a premium. If less, at a discount.</li>\n",
    "    <li> <b> Rating</b>: is a measure of how likely the bond is to default; ratings are usually standardized (see, for example, <a href=\"https://en.wikipedia.org/wiki/Bond_credit_rating\" target=\"_blank\">bond credit rating </a>). The lower the rating, the higher the interest rate that must be paid to compensate the lender for the additional risk.</li>\n",
    "</ul>\n",
    "\n",
    "### Simple bond\n",
    "\n",
    "<p>In what follows we will assume a standard bond priced at $S$ with face vaue $F$, interest rate $t$, term $n$, and frequency $k$. The coupon $c$ is calculated from the face value, annual rate and frequency:\n",
    "$$c = \\frac{Fr}{k}, \\ c = FRq,$$\n",
    "where $q$ is, as usual, the inverse of $k$. </p>\n",
    "<p>In most cases a bond works by:\n",
    "    <ul>\n",
    "        <li> the buyer (the lender) pays the market price to the seller (the issuer in a primary sale or the current holder in a secondary sale);</li>\n",
    "        <li> the borrower (the original issuer) pays the holder a periodic and (usually) fixed coupon payment (usually) semi-annualy;</li>\n",
    "        <li> at the end of the term, the borrower pays the holder the final coupon payment and the face amount of the bond. </li>\n",
    "    </ul>\n",
    "The cash-flow diagram for a typical bond from the issuer's (i.e., the borrower's) perspective at origination looks like:\n",
    "</p>\n",
    "<img src = 'Images/img10.png' width = 300 height = 200>\n",
    "\n",
    "### Zero coupon bond\n",
    "\n",
    "<p> A zero coupon bond is a bond purchased at origination at a discount which makes a single payment of its face amount a tthe end of its term. The cash-flow diagram from the borrower's perspective is:\n",
    "</p>\n",
    "<img src = 'Images/img11.png' width = 300 height = 200>\n",
    "\n",
    "### Consol\n",
    "\n",
    "<p> A consol is a bond that pays its coupon into perpetuity. Consols are normally issued by sovereign governments. The periodic coupon payment is computed in the usual manner. The cash-flow diagram of a consol from the borrower's perspective is:\n",
    "</p>\n",
    "<img src = 'Images/img12.png' width = 300 height = 200>\n",
    "\n",
    "### Bond yield\n",
    "\n",
    "<p> The yield of a bond is its IRR. The value of a bond is often quoted in terms of its yield, rather than its price. This is to facilitate the comparison of different bonds that have different underlying structures. The price of the bond is the <i>PV of the finite stream of coupon payments</i> plus the <i>PV of the final payment of the face amount</i>, discounted at the yield of the bond:</p>\n",
    "\n",
    "$$S = \\left[\\sum_{i=1}^{nk} \\frac{c}{\\left(1+\\frac{y}{k}\\right)^{i}}\\right] + \\frac{F}{\\left(1 + \\frac{y}{k}\\right)^{nk}} = \\frac{kc}{y}\\left[1-\\frac{1}{\\left(1+\\frac{y}{k}\\right)^{nk}}\\right] + \\frac{F}{\\left(1 + \\frac{y}{k}\\right)^{nk}}$$\n",
    "\n",
    "<p> The yield represents the return that the market demands for an instrument oof this type. The price $S$ is the PV of the cash-flows at the market return. Often we have the price of the bond, $S$, and must solve for the yield $y$.</p>\n",
    "\n",
    "<p> When a bond in sold such that:\n",
    "    <ul>\n",
    "        <li> $y = r$: The bond is sold at <i>par</i>, and its IRR matches the coupon rate. This implies that the coupon rate of the bond matches the market's rate, the yield, used the price this instrument. The PV of the cash-flows matches the face amount. </li>\n",
    "        <li> $y < r$: the bond is sold at a <i>premiu</i>, and the coupon rate of the bond is greater than the market yield. The PV of the cash-flows is higher than the face amount. </li>\n",
    "        <li> $y>r$: The bond is sold at a <i>discount</i> and the coupon rate of the bond is less than the market yield. The PV of the cash-flows is less than the face amount. </li>\n",
    "    </ul>\n",
    "</p>\n",
    "\n",
    "#### Bond at discount example\n",
    "\n",
    "<p> Consider a bond with the following description:</p>"
   ]
  },
  {
   "cell_type": "code",
   "execution_count": 122,
   "metadata": {},
   "outputs": [],
   "source": [
    "nPriceAtDiscount = 9900\n",
    "nFace = 10000\n",
    "nCouponRate = 0.05\n",
    "iTerm = 10\n",
    "iFrequency = 2"
   ]
  },
  {
   "cell_type": "markdown",
   "metadata": {},
   "source": [
    "<p> The semi-anual coupon is therefore:</p>"
   ]
  },
  {
   "cell_type": "code",
   "execution_count": 94,
   "metadata": {},
   "outputs": [
    {
     "data": {
      "text/plain": [
       "250.0"
      ]
     },
     "execution_count": 94,
     "metadata": {},
     "output_type": "execute_result"
    }
   ],
   "source": [
    "nCoupon = nFace*(nCouponRate/iFrequency)\n",
    "nCoupon"
   ]
  },
  {
   "cell_type": "markdown",
   "metadata": {},
   "source": [
    "<p> To kick off the search we need an initial estimate of the yield. A reasonable value will be the amount of coupon paid over the year divided by the price of the bond. This results in a starting estimate of $5.05\\%$:</p>"
   ]
  },
  {
   "cell_type": "code",
   "execution_count": 123,
   "metadata": {},
   "outputs": [
    {
     "data": {
      "text/plain": [
       "0.050505050505050504"
      ]
     },
     "execution_count": 123,
     "metadata": {},
     "output_type": "execute_result"
    }
   ],
   "source": [
    "nInitialRateGuess = nCoupon*iFrequency/nPriceAtDiscount\n",
    "nInitialRateGuess"
   ]
  },
  {
   "cell_type": "code",
   "execution_count": 127,
   "metadata": {},
   "outputs": [],
   "source": [
    "def BondYield(c,y,F,k,n):\n",
    "    nCouponPayments = (k*c/y)*(1-1/((1+y/k)**(n*k)))\n",
    "    nPVFaceAmount = PV(F,y,k,n)\n",
    "    return nCouponPayments + nPVFaceAmount"
   ]
  },
  {
   "cell_type": "markdown",
   "metadata": {},
   "source": [
    "<p>A scalar version adapted to our setting is:</p>"
   ]
  },
  {
   "cell_type": "code",
   "execution_count": 128,
   "metadata": {},
   "outputs": [],
   "source": [
    "def fxBondYieldAtDiscount(y):\n",
    "    return nPriceAtDiscount - BondYield(nCoupon, y,nFace,iFrequency, iTerm)"
   ]
  },
  {
   "cell_type": "code",
   "execution_count": 130,
   "metadata": {},
   "outputs": [
    {
     "data": {
      "image/png": "[encoded data removed]",
      "text/plain": [
       "<Figure size 432x288 with 1 Axes>"
      ]
     },
     "metadata": {},
     "output_type": "display_data"
    }
   ],
   "source": [
    "# Data for plotting\n",
    "t = np.arange(0.04, 0.06, 0.001)\n",
    "s = np.array([fxBondYieldAtDiscount(y) for y in t])\n",
    "intercept = np.zeros(len(t))\n",
    "\n",
    "fig, ax = plt.subplots(figsize = (6,4))\n",
    "ax.plot(t, s)\n",
    "ax.plot(t,intercept, '--')\n",
    "ax.plot(nCouponRate, 0,'o', label = 'Par value')\n",
    "\n",
    "ax.set(xlabel='Market rate', ylabel='Price difference',\n",
    "       title='Pricing a bond')\n",
    "ax.grid()\n",
    "plt.legend()\n",
    "\n",
    "plt.show()"
   ]
  },
  {
   "cell_type": "markdown",
   "metadata": {},
   "source": [
    "<p> We will use the values $a_1 = 0.05$ and $a_2 = 0.055$ as our estimates when calling the brentq method. The yield of the bond $5.13\\%$</p>"
   ]
  },
  {
   "cell_type": "code",
   "execution_count": 131,
   "metadata": {},
   "outputs": [
    {
     "data": {
      "text/plain": [
       "0.0513"
      ]
     },
     "execution_count": 131,
     "metadata": {},
     "output_type": "execute_result"
    }
   ],
   "source": [
    "round(optimize.brentq(fxBondYieldAtDiscount, 0.05, 0.555),4)"
   ]
  },
  {
   "cell_type": "markdown",
   "metadata": {},
   "source": [
    "#### Bond at a Premium Example"
   ]
  },
  {
   "cell_type": "code",
   "execution_count": 133,
   "metadata": {},
   "outputs": [
    {
     "data": {
      "text/plain": [
       "0.047619047619047616"
      ]
     },
     "execution_count": 133,
     "metadata": {},
     "output_type": "execute_result"
    }
   ],
   "source": [
    "nPriceAtPremium = 10500\n",
    "nInitialRateGuess = nCoupon*iFrequency/nPriceAtPremium\n",
    "nInitialRateGuess"
   ]
  },
  {
   "cell_type": "code",
   "execution_count": 134,
   "metadata": {},
   "outputs": [],
   "source": [
    "def fxBondYieldAtPremium(y):\n",
    "    return nPriceAtPremium - BondYield(nCoupon, y,nFace,iFrequency, iTerm)"
   ]
  },
  {
   "cell_type": "code",
   "execution_count": 135,
   "metadata": {},
   "outputs": [
    {
     "data": {
      "image/png": "[encoded data removed]",
      "text/plain": [
       "<Figure size 432x288 with 1 Axes>"
      ]
     },
     "metadata": {},
     "output_type": "display_data"
    }
   ],
   "source": [
    "# Data for plotting\n",
    "t = np.arange(0.04, 0.06, 0.001)\n",
    "s = np.array([fxBondYieldAtPremium(y) for y in t])\n",
    "intercept = np.zeros(len(t))\n",
    "\n",
    "fig, ax = plt.subplots(figsize = (6,4))\n",
    "ax.plot(t, s)\n",
    "ax.plot(t,intercept, '--')\n",
    "ax.plot(nCouponRate, 0,'o', label = 'Par value')\n",
    "\n",
    "ax.set(xlabel='Market rate', ylabel='Price difference',\n",
    "       title='Pricing a bond')\n",
    "ax.grid()\n",
    "plt.legend()\n",
    "\n",
    "plt.show()"
   ]
  },
  {
   "cell_type": "markdown",
   "metadata": {},
   "source": [
    "<p>We can use the values $a_1 = 0.04$ and $a_1=0.05$ in our call to brentq</p>"
   ]
  },
  {
   "cell_type": "code",
   "execution_count": 137,
   "metadata": {},
   "outputs": [
    {
     "data": {
      "text/plain": [
       "0.0438"
      ]
     },
     "execution_count": 137,
     "metadata": {},
     "output_type": "execute_result"
    }
   ],
   "source": [
    "round(optimize.brentq(fxBondYieldAtPremium, 0.04, 0.05),4)"
   ]
  },
  {
   "cell_type": "markdown",
   "metadata": {},
   "source": [
    "#### Zero coupon bond example\n",
    "\n",
    "<p> The yield computation for a zero coupon bond is straightfoward:</p>\n",
    "\n",
    "$$S = f\\left(1 + \\frac{y}{k}\\right)^{-nk} \\Longrightarrow y = k\\left(\\left(\\frac{S}{F}\\right)^{nk}-1\\right)$$\n",
    "\n",
    "### Duration and convexity\n",
    "\n",
    "<p> <a href=\"https://en.wikipedia.org/wiki/Bond_duration\" target=\"_blank\">Bond duration</a> and <a href=\"https://en.wikipedia.org/wiki/Bond_convexity\" target =\"_blank\">convexity</a> are used to characterize the sensitivity of the price of a bond to changes in yield. They were originally developed pre-computers to assist in assessing the impact of yield changes. Now such changes can be quickly calculated exactly. Duration and convexity are still used, however, to provide traders with an intuititve insight into price sensitivity of bonds. </p>\n",
    "\n",
    "#### Macaulay duration\n",
    "\n",
    "<p> Macaulay duration, $\\mathrm{MacD}$, is an average of the times at which the cash-flows of a bond are received, weighted by the relative contribution of each cash-flow's PV to the price (i.e., the total PV). Let the cash-flows occurt at time stamps $\\mathcal{T} = (t_1,t_2, \\cdots, t_{nk})$. The price $S$ is assumed to represent the PV of the bond:\n",
    "$$\\mathrm{MacD} = \\left[\\left(\\sum_{i=1}^{nk} \\frac{ic}{k\\left(1+\\frac{y}{k}\\right)^{i}} \\right) + \\frac{nF}{\\left(1+\\frac{y}{k}\\right)^{nk}}\\right] \\left[\\left(\\sum_{i=1}^{nk} \\frac{c}{\\left(1+\\frac{y}{k}\\right)^i}\\right) + \\frac{F}{\\left(1+\\frac{y}{k}\\right)^{nk}}\\right]^{-1},$$\n",
    "or, in simplified form,\n",
    "$$\\frac{c (k+y) \\left(\\frac{k+y}{k}\\right)^{k n}-c (k n y+k+y)+F n y^2}{y \\left(c k \\left(\\left(\\frac{k+y}{k}\\right)^{k n}-1\\right)+F y\\right)}$$"
   ]
  },
  {
   "cell_type": "code",
   "execution_count": null,
   "metadata": {},
   "outputs": [],
   "source": []
  }
 ],
 "metadata": {
  "kernelspec": {
   "display_name": "Python 3",
   "language": "python",
   "name": "python3"
  },
  "language_info": {
   "codemirror_mode": {
    "name": "ipython",
    "version": 3
   },
   "file_extension": ".py",
   "mimetype": "text/x-python",
   "name": "python",
   "nbconvert_exporter": "python",
   "pygments_lexer": "ipython3",
   "version": "3.8.2"
  }
 },
 "nbformat": 4,
 "nbformat_minor": 4
}
